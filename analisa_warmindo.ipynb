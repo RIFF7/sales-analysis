{
 "cells": [
  {
   "cell_type": "markdown",
   "id": "d425284c-4b71-4141-84d8-648b1632d6fb",
   "metadata": {},
   "source": [
    "<h1> Business Understanding </h1>\n",
    "\n",
    "<h2> Latar Belakang </h2>\n",
    "\n",
    "Warmindo, kependekan dari Warung Makan Indomie, adalah salah satu jenis usaha kuliner yang sangat populer di Indonesia. Warung ini menawarkan berbagai macam produk berbasis mi instan dan menu sederhana lainnya yang digemari oleh berbagai kalangan. Untuk memahami dan mengoptimalkan operasional bisnis, penting bagi Warmindo untuk menganalisis data transaksi yang terjadi di warung mereka.\n",
    "\n",
    "<h3> Tujuan Analisis </h3>\n",
    "\n",
    "Analisis data transaksi dari dataset data_warmindo.csv memiliki beberapa tujuan utama:\n",
    "\n",
    "1. Mengidentifikasi Pola Pembelian Pelanggan\n",
    "    - Menganalisis kapan (hari dan bulan) transaksi terjadi untuk mengetahui periode tanggal dan bulan dengan penjualan tertinggi.\n",
    "    - Melihat produk apa yang paling sering dibeli dan bagaimana permintaan produk berubah dari waktu ke waktu.\n",
    "    - Siapa pelanggan setia dan bagaimana kita bisa meningkatkan loyalitas mereka?\n",
    "    - Bagaimana efektivitas promosi dan diskon?\n",
    "\n",
    "2. Segmentasi Pelanggan\n",
    "    - Mengelompokkan pelanggan berdasarkan pola pembelian mereka, seperti frekuensi pembelian, jenis produk yang dibeli, dan nilai penjualan.\n",
    "    - Mengetahui siapa pelanggan setia dan pelanggan yang jarang berbelanja.\n",
    "\n",
    "3. Optimasi Stok dan Inventaris\n",
    "    - Menggunakan data penjualan untuk memperkirakan kebutuhan stok produk.\n",
    "    - Mengurangi risiko kekurangan stok atau overstocking yang dapat mengurangi profitabilitas.\n",
    "\n",
    "4. Evaluasi Promosi dan Diskon\n",
    "    - Menganalisis efektivitas berbagai jenis promosi dan diskon yang diberikan kepada pelanggan.\n",
    "    - Mengidentifikasi metode pembayaran mana yang paling sering digunakan oleh pelanggan dan apakah ada pengaruhnya terhadap nilai penjualan.\n",
    "\n",
    "<h3> Hasil yang Diharapkan </h3>\n",
    "\n",
    "Dengan melakukan analisis mendalam terhadap data ini, Warmindo dapat mengambil keputusan bisnis yang lebih baik berdasarkan wawasan yang diperoleh. Hasil analisis diharapkan dapat membantu dalam:\n",
    "\n",
    "- Mengoptimalkan strategi penjualan dan pemasaran.\n",
    "- Memperbaiki manajemen inventaris dan rantai pasokan.\n",
    "- Meningkatkan kepuasan dan loyalitas pelanggan melalui layanan yang lebih baik dan penawaran yang disesuaikan dengan kebutuhan pelanggan."
   ]
  },
  {
   "cell_type": "markdown",
   "id": "92ca77fe-8faa-4804-8d03-5a7c48738359",
   "metadata": {},
   "source": [
    "<h1> Data Understanding </h1>\n",
    "\n",
    "- **Koleksi Data:** Dataset data_warmindo.csv dengan 499 rows dengan kolom id, invoice_id, tanggal_transaksi, customer_id, nama_produk, jenis_produk, kategori_produk, quantity, harga_jual, jenis_pembayaran, jenis_pesanan, nilai_penjualan. Dari masing-masing kolom ini memiliki penjelasan sebagai berikut:\n",
    "\n",
    "    - id: ID unik untuk setiap entri transaksi.\n",
    "    - invoice_id: ID faktur untuk transaksi tertentu.\n",
    "    - tanggal_transaksi: Tanggal transaksi terjadi.\n",
    "    - customer_id: ID unik untuk setiap pelanggan.\n",
    "    - nama_produk: Nama produk yang dibeli.\n",
    "    - jenis_produk: Jenis produk (misalnya, mi instan, minuman, dll.).\n",
    "    - kategori_produk: Kategori produk (misalnya, makanan, minuman).\n",
    "    - quantity: Jumlah produk yang dibeli.\n",
    "    - harga_jual: Harga jual per unit produk.\n",
    "    - jenis_pembayaran: Jenis pembayaran yang digunakan (misalnya, tunai, kartu kredit).\n",
    "    - jenis_pesanan: Jenis pesanan (misalnya, makan di tempat, bawa pulang).\n",
    "    - nilai_penjualan: Total nilai penjualan untuk transaksi tersebut.\n",
    "\n",
    "- **Eksplorasi Data:**\n",
    "    - Mengidentifikasi distribusi dan statistik deskriptif dari masing-masing kolom.\n",
    "    - Mengamati pola temporal dari tanggal_transaksi.\n",
    "    - Menggali hubungan antara nama_produk, jenis_produk, dan kategori_produk dengan nilai_penjualan."
   ]
  },
  {
   "cell_type": "code",
   "execution_count": 26,
   "id": "837ff763-9de7-4a44-b4ee-504c9682d5c2",
   "metadata": {},
   "outputs": [],
   "source": [
    "import pandas as pd\n",
    "import matplotlib.pyplot as plt\n",
    "import plotly.graph_objects as go\n",
    "import seaborn as sns"
   ]
  },
  {
   "cell_type": "code",
   "execution_count": 2,
   "id": "3e0abf63-5af3-40d4-9d2f-dbcbffde64a7",
   "metadata": {},
   "outputs": [
    {
     "data": {
      "text/html": [
       "<div>\n",
       "<style scoped>\n",
       "    .dataframe tbody tr th:only-of-type {\n",
       "        vertical-align: middle;\n",
       "    }\n",
       "\n",
       "    .dataframe tbody tr th {\n",
       "        vertical-align: top;\n",
       "    }\n",
       "\n",
       "    .dataframe thead th {\n",
       "        text-align: right;\n",
       "    }\n",
       "</style>\n",
       "<table border=\"1\" class=\"dataframe\">\n",
       "  <thead>\n",
       "    <tr style=\"text-align: right;\">\n",
       "      <th></th>\n",
       "      <th>id</th>\n",
       "      <th>invoice_id</th>\n",
       "      <th>tanggal_transaksi</th>\n",
       "      <th>customer_id</th>\n",
       "      <th>nama_produk</th>\n",
       "      <th>jenis_produk</th>\n",
       "      <th>kategori_produk</th>\n",
       "      <th>quantity</th>\n",
       "      <th>harga_jual</th>\n",
       "      <th>jenis_pembayaran</th>\n",
       "      <th>jenis_pesanan</th>\n",
       "      <th>nilai_penjualan</th>\n",
       "    </tr>\n",
       "  </thead>\n",
       "  <tbody>\n",
       "    <tr>\n",
       "      <th>0</th>\n",
       "      <td>1</td>\n",
       "      <td>1</td>\n",
       "      <td>4/11/22</td>\n",
       "      <td>44</td>\n",
       "      <td>Indomie Ayam Spesial</td>\n",
       "      <td>mie-kuah</td>\n",
       "      <td>makanan</td>\n",
       "      <td>2</td>\n",
       "      <td>9000</td>\n",
       "      <td>QRIS-OVO</td>\n",
       "      <td>Dine-In</td>\n",
       "      <td>18000</td>\n",
       "    </tr>\n",
       "    <tr>\n",
       "      <th>1</th>\n",
       "      <td>2</td>\n",
       "      <td>2</td>\n",
       "      <td>8/1/22</td>\n",
       "      <td>10</td>\n",
       "      <td>Indomie Ayam Spesial</td>\n",
       "      <td>mie-kuah</td>\n",
       "      <td>makanan</td>\n",
       "      <td>2</td>\n",
       "      <td>9000</td>\n",
       "      <td>CASH</td>\n",
       "      <td>Delivery</td>\n",
       "      <td>18000</td>\n",
       "    </tr>\n",
       "    <tr>\n",
       "      <th>2</th>\n",
       "      <td>3</td>\n",
       "      <td>3</td>\n",
       "      <td>4/3/22</td>\n",
       "      <td>62</td>\n",
       "      <td>Indomie Rasa Soto Betawi</td>\n",
       "      <td>mie-kuah</td>\n",
       "      <td>makanan</td>\n",
       "      <td>1</td>\n",
       "      <td>10000</td>\n",
       "      <td>QRIS-OTHERS</td>\n",
       "      <td>Delivery</td>\n",
       "      <td>10000</td>\n",
       "    </tr>\n",
       "    <tr>\n",
       "      <th>3</th>\n",
       "      <td>4</td>\n",
       "      <td>4</td>\n",
       "      <td>3/19/22</td>\n",
       "      <td>48</td>\n",
       "      <td>Indomie Rasa Soto Padang</td>\n",
       "      <td>mie-kuah</td>\n",
       "      <td>makanan</td>\n",
       "      <td>3</td>\n",
       "      <td>10000</td>\n",
       "      <td>CASH</td>\n",
       "      <td>Dine-In</td>\n",
       "      <td>30000</td>\n",
       "    </tr>\n",
       "    <tr>\n",
       "      <th>4</th>\n",
       "      <td>5</td>\n",
       "      <td>5</td>\n",
       "      <td>4/29/22</td>\n",
       "      <td>87</td>\n",
       "      <td>Indomie Rasa Sop Buntut</td>\n",
       "      <td>mie-kuah</td>\n",
       "      <td>makanan</td>\n",
       "      <td>2</td>\n",
       "      <td>10000</td>\n",
       "      <td>QRIS-OVO</td>\n",
       "      <td>Dine-In</td>\n",
       "      <td>20000</td>\n",
       "    </tr>\n",
       "    <tr>\n",
       "      <th>...</th>\n",
       "      <td>...</td>\n",
       "      <td>...</td>\n",
       "      <td>...</td>\n",
       "      <td>...</td>\n",
       "      <td>...</td>\n",
       "      <td>...</td>\n",
       "      <td>...</td>\n",
       "      <td>...</td>\n",
       "      <td>...</td>\n",
       "      <td>...</td>\n",
       "      <td>...</td>\n",
       "      <td>...</td>\n",
       "    </tr>\n",
       "    <tr>\n",
       "      <th>494</th>\n",
       "      <td>495</td>\n",
       "      <td>495</td>\n",
       "      <td>5/17/22</td>\n",
       "      <td>11</td>\n",
       "      <td>Indomie Baso Sapi</td>\n",
       "      <td>mie-kuah</td>\n",
       "      <td>makanan</td>\n",
       "      <td>1</td>\n",
       "      <td>9000</td>\n",
       "      <td>CASH</td>\n",
       "      <td>Delivery</td>\n",
       "      <td>9000</td>\n",
       "    </tr>\n",
       "    <tr>\n",
       "      <th>495</th>\n",
       "      <td>496</td>\n",
       "      <td>496</td>\n",
       "      <td>6/6/22</td>\n",
       "      <td>55</td>\n",
       "      <td>Indomie Goreng Spesial</td>\n",
       "      <td>mie-goreng</td>\n",
       "      <td>makanan</td>\n",
       "      <td>1</td>\n",
       "      <td>9000</td>\n",
       "      <td>QRIS-GOPAY</td>\n",
       "      <td>Delivery</td>\n",
       "      <td>9000</td>\n",
       "    </tr>\n",
       "    <tr>\n",
       "      <th>496</th>\n",
       "      <td>497</td>\n",
       "      <td>497</td>\n",
       "      <td>7/14/22</td>\n",
       "      <td>25</td>\n",
       "      <td>Indomie Goreng Rendang</td>\n",
       "      <td>mie-goreng</td>\n",
       "      <td>makanan</td>\n",
       "      <td>2</td>\n",
       "      <td>9000</td>\n",
       "      <td>QRIS-GOPAY</td>\n",
       "      <td>Delivery</td>\n",
       "      <td>18000</td>\n",
       "    </tr>\n",
       "    <tr>\n",
       "      <th>497</th>\n",
       "      <td>498</td>\n",
       "      <td>498</td>\n",
       "      <td>8/22/22</td>\n",
       "      <td>39</td>\n",
       "      <td>Indomie Goreng Pedas</td>\n",
       "      <td>mie-goreng</td>\n",
       "      <td>makanan</td>\n",
       "      <td>2</td>\n",
       "      <td>9000</td>\n",
       "      <td>QRIS-DANA</td>\n",
       "      <td>Delivery</td>\n",
       "      <td>18000</td>\n",
       "    </tr>\n",
       "    <tr>\n",
       "      <th>498</th>\n",
       "      <td>499</td>\n",
       "      <td>499</td>\n",
       "      <td>6/21/22</td>\n",
       "      <td>79</td>\n",
       "      <td>Indomie Soto Mie</td>\n",
       "      <td>mie-kuah</td>\n",
       "      <td>makanan</td>\n",
       "      <td>1</td>\n",
       "      <td>9000</td>\n",
       "      <td>QRIS-OVO</td>\n",
       "      <td>Dine-In</td>\n",
       "      <td>9000</td>\n",
       "    </tr>\n",
       "  </tbody>\n",
       "</table>\n",
       "<p>499 rows × 12 columns</p>\n",
       "</div>"
      ],
      "text/plain": [
       "      id  invoice_id tanggal_transaksi  customer_id               nama_produk  \\\n",
       "0      1           1           4/11/22           44      Indomie Ayam Spesial   \n",
       "1      2           2            8/1/22           10      Indomie Ayam Spesial   \n",
       "2      3           3            4/3/22           62  Indomie Rasa Soto Betawi   \n",
       "3      4           4           3/19/22           48  Indomie Rasa Soto Padang   \n",
       "4      5           5           4/29/22           87   Indomie Rasa Sop Buntut   \n",
       "..   ...         ...               ...          ...                       ...   \n",
       "494  495         495           5/17/22           11         Indomie Baso Sapi   \n",
       "495  496         496            6/6/22           55    Indomie Goreng Spesial   \n",
       "496  497         497           7/14/22           25    Indomie Goreng Rendang   \n",
       "497  498         498           8/22/22           39      Indomie Goreng Pedas   \n",
       "498  499         499           6/21/22           79          Indomie Soto Mie   \n",
       "\n",
       "    jenis_produk kategori_produk  quantity  harga_jual jenis_pembayaran  \\\n",
       "0       mie-kuah         makanan         2        9000         QRIS-OVO   \n",
       "1       mie-kuah         makanan         2        9000             CASH   \n",
       "2       mie-kuah         makanan         1       10000      QRIS-OTHERS   \n",
       "3       mie-kuah         makanan         3       10000             CASH   \n",
       "4       mie-kuah         makanan         2       10000         QRIS-OVO   \n",
       "..           ...             ...       ...         ...              ...   \n",
       "494     mie-kuah         makanan         1        9000             CASH   \n",
       "495   mie-goreng         makanan         1        9000       QRIS-GOPAY   \n",
       "496   mie-goreng         makanan         2        9000       QRIS-GOPAY   \n",
       "497   mie-goreng         makanan         2        9000        QRIS-DANA   \n",
       "498     mie-kuah         makanan         1        9000         QRIS-OVO   \n",
       "\n",
       "    jenis_pesanan  nilai_penjualan  \n",
       "0         Dine-In            18000  \n",
       "1        Delivery            18000  \n",
       "2        Delivery            10000  \n",
       "3         Dine-In            30000  \n",
       "4         Dine-In            20000  \n",
       "..            ...              ...  \n",
       "494      Delivery             9000  \n",
       "495      Delivery             9000  \n",
       "496      Delivery            18000  \n",
       "497      Delivery            18000  \n",
       "498       Dine-In             9000  \n",
       "\n",
       "[499 rows x 12 columns]"
      ]
     },
     "execution_count": 2,
     "metadata": {},
     "output_type": "execute_result"
    }
   ],
   "source": [
    "# Read Data\n",
    "df_warmindo = pd.read_csv(\"dataset/data_warmindo.csv\")\n",
    "\n",
    "df_warmindo"
   ]
  },
  {
   "cell_type": "code",
   "execution_count": 3,
   "id": "ed459517-ce84-4e0d-b478-22f63bc982ed",
   "metadata": {},
   "outputs": [
    {
     "data": {
      "text/html": [
       "<div>\n",
       "<style scoped>\n",
       "    .dataframe tbody tr th:only-of-type {\n",
       "        vertical-align: middle;\n",
       "    }\n",
       "\n",
       "    .dataframe tbody tr th {\n",
       "        vertical-align: top;\n",
       "    }\n",
       "\n",
       "    .dataframe thead th {\n",
       "        text-align: right;\n",
       "    }\n",
       "</style>\n",
       "<table border=\"1\" class=\"dataframe\">\n",
       "  <thead>\n",
       "    <tr style=\"text-align: right;\">\n",
       "      <th></th>\n",
       "      <th>id</th>\n",
       "      <th>invoice_id</th>\n",
       "      <th>tanggal_transaksi</th>\n",
       "      <th>customer_id</th>\n",
       "      <th>nama_produk</th>\n",
       "      <th>jenis_produk</th>\n",
       "      <th>kategori_produk</th>\n",
       "      <th>quantity</th>\n",
       "      <th>harga_jual</th>\n",
       "      <th>jenis_pembayaran</th>\n",
       "      <th>jenis_pesanan</th>\n",
       "      <th>nilai_penjualan</th>\n",
       "    </tr>\n",
       "  </thead>\n",
       "  <tbody>\n",
       "    <tr>\n",
       "      <th>0</th>\n",
       "      <td>1</td>\n",
       "      <td>1</td>\n",
       "      <td>4/11/22</td>\n",
       "      <td>44</td>\n",
       "      <td>Indomie Ayam Spesial</td>\n",
       "      <td>mie-kuah</td>\n",
       "      <td>makanan</td>\n",
       "      <td>2</td>\n",
       "      <td>9000</td>\n",
       "      <td>QRIS-OVO</td>\n",
       "      <td>Dine-In</td>\n",
       "      <td>18000</td>\n",
       "    </tr>\n",
       "    <tr>\n",
       "      <th>1</th>\n",
       "      <td>2</td>\n",
       "      <td>2</td>\n",
       "      <td>8/1/22</td>\n",
       "      <td>10</td>\n",
       "      <td>Indomie Ayam Spesial</td>\n",
       "      <td>mie-kuah</td>\n",
       "      <td>makanan</td>\n",
       "      <td>2</td>\n",
       "      <td>9000</td>\n",
       "      <td>CASH</td>\n",
       "      <td>Delivery</td>\n",
       "      <td>18000</td>\n",
       "    </tr>\n",
       "    <tr>\n",
       "      <th>2</th>\n",
       "      <td>3</td>\n",
       "      <td>3</td>\n",
       "      <td>4/3/22</td>\n",
       "      <td>62</td>\n",
       "      <td>Indomie Rasa Soto Betawi</td>\n",
       "      <td>mie-kuah</td>\n",
       "      <td>makanan</td>\n",
       "      <td>1</td>\n",
       "      <td>10000</td>\n",
       "      <td>QRIS-OTHERS</td>\n",
       "      <td>Delivery</td>\n",
       "      <td>10000</td>\n",
       "    </tr>\n",
       "    <tr>\n",
       "      <th>3</th>\n",
       "      <td>4</td>\n",
       "      <td>4</td>\n",
       "      <td>3/19/22</td>\n",
       "      <td>48</td>\n",
       "      <td>Indomie Rasa Soto Padang</td>\n",
       "      <td>mie-kuah</td>\n",
       "      <td>makanan</td>\n",
       "      <td>3</td>\n",
       "      <td>10000</td>\n",
       "      <td>CASH</td>\n",
       "      <td>Dine-In</td>\n",
       "      <td>30000</td>\n",
       "    </tr>\n",
       "    <tr>\n",
       "      <th>4</th>\n",
       "      <td>5</td>\n",
       "      <td>5</td>\n",
       "      <td>4/29/22</td>\n",
       "      <td>87</td>\n",
       "      <td>Indomie Rasa Sop Buntut</td>\n",
       "      <td>mie-kuah</td>\n",
       "      <td>makanan</td>\n",
       "      <td>2</td>\n",
       "      <td>10000</td>\n",
       "      <td>QRIS-OVO</td>\n",
       "      <td>Dine-In</td>\n",
       "      <td>20000</td>\n",
       "    </tr>\n",
       "  </tbody>\n",
       "</table>\n",
       "</div>"
      ],
      "text/plain": [
       "   id  invoice_id tanggal_transaksi  customer_id               nama_produk  \\\n",
       "0   1           1           4/11/22           44      Indomie Ayam Spesial   \n",
       "1   2           2            8/1/22           10      Indomie Ayam Spesial   \n",
       "2   3           3            4/3/22           62  Indomie Rasa Soto Betawi   \n",
       "3   4           4           3/19/22           48  Indomie Rasa Soto Padang   \n",
       "4   5           5           4/29/22           87   Indomie Rasa Sop Buntut   \n",
       "\n",
       "  jenis_produk kategori_produk  quantity  harga_jual jenis_pembayaran  \\\n",
       "0     mie-kuah         makanan         2        9000         QRIS-OVO   \n",
       "1     mie-kuah         makanan         2        9000             CASH   \n",
       "2     mie-kuah         makanan         1       10000      QRIS-OTHERS   \n",
       "3     mie-kuah         makanan         3       10000             CASH   \n",
       "4     mie-kuah         makanan         2       10000         QRIS-OVO   \n",
       "\n",
       "  jenis_pesanan  nilai_penjualan  \n",
       "0       Dine-In            18000  \n",
       "1      Delivery            18000  \n",
       "2      Delivery            10000  \n",
       "3       Dine-In            30000  \n",
       "4       Dine-In            20000  "
      ]
     },
     "execution_count": 3,
     "metadata": {},
     "output_type": "execute_result"
    }
   ],
   "source": [
    "df_warmindo.head()"
   ]
  },
  {
   "cell_type": "code",
   "execution_count": 4,
   "id": "e1f6748b-1fb5-4600-9b3b-04c843081247",
   "metadata": {},
   "outputs": [
    {
     "data": {
      "text/html": [
       "<div>\n",
       "<style scoped>\n",
       "    .dataframe tbody tr th:only-of-type {\n",
       "        vertical-align: middle;\n",
       "    }\n",
       "\n",
       "    .dataframe tbody tr th {\n",
       "        vertical-align: top;\n",
       "    }\n",
       "\n",
       "    .dataframe thead th {\n",
       "        text-align: right;\n",
       "    }\n",
       "</style>\n",
       "<table border=\"1\" class=\"dataframe\">\n",
       "  <thead>\n",
       "    <tr style=\"text-align: right;\">\n",
       "      <th></th>\n",
       "      <th>id</th>\n",
       "      <th>invoice_id</th>\n",
       "      <th>customer_id</th>\n",
       "      <th>quantity</th>\n",
       "      <th>harga_jual</th>\n",
       "      <th>nilai_penjualan</th>\n",
       "    </tr>\n",
       "  </thead>\n",
       "  <tbody>\n",
       "    <tr>\n",
       "      <th>count</th>\n",
       "      <td>499.000000</td>\n",
       "      <td>499.000000</td>\n",
       "      <td>499.000000</td>\n",
       "      <td>499.000000</td>\n",
       "      <td>499.000000</td>\n",
       "      <td>499.000000</td>\n",
       "    </tr>\n",
       "    <tr>\n",
       "      <th>mean</th>\n",
       "      <td>250.000000</td>\n",
       "      <td>250.000000</td>\n",
       "      <td>48.016032</td>\n",
       "      <td>1.953908</td>\n",
       "      <td>9438.877756</td>\n",
       "      <td>18440.881764</td>\n",
       "    </tr>\n",
       "    <tr>\n",
       "      <th>std</th>\n",
       "      <td>144.193157</td>\n",
       "      <td>144.193157</td>\n",
       "      <td>28.521811</td>\n",
       "      <td>0.796503</td>\n",
       "      <td>496.748002</td>\n",
       "      <td>7575.722958</td>\n",
       "    </tr>\n",
       "    <tr>\n",
       "      <th>min</th>\n",
       "      <td>1.000000</td>\n",
       "      <td>1.000000</td>\n",
       "      <td>1.000000</td>\n",
       "      <td>1.000000</td>\n",
       "      <td>9000.000000</td>\n",
       "      <td>9000.000000</td>\n",
       "    </tr>\n",
       "    <tr>\n",
       "      <th>25%</th>\n",
       "      <td>125.500000</td>\n",
       "      <td>125.500000</td>\n",
       "      <td>22.000000</td>\n",
       "      <td>1.000000</td>\n",
       "      <td>9000.000000</td>\n",
       "      <td>10000.000000</td>\n",
       "    </tr>\n",
       "    <tr>\n",
       "      <th>50%</th>\n",
       "      <td>250.000000</td>\n",
       "      <td>250.000000</td>\n",
       "      <td>48.000000</td>\n",
       "      <td>2.000000</td>\n",
       "      <td>9000.000000</td>\n",
       "      <td>18000.000000</td>\n",
       "    </tr>\n",
       "    <tr>\n",
       "      <th>75%</th>\n",
       "      <td>374.500000</td>\n",
       "      <td>374.500000</td>\n",
       "      <td>72.500000</td>\n",
       "      <td>3.000000</td>\n",
       "      <td>10000.000000</td>\n",
       "      <td>27000.000000</td>\n",
       "    </tr>\n",
       "    <tr>\n",
       "      <th>max</th>\n",
       "      <td>499.000000</td>\n",
       "      <td>499.000000</td>\n",
       "      <td>100.000000</td>\n",
       "      <td>3.000000</td>\n",
       "      <td>10000.000000</td>\n",
       "      <td>30000.000000</td>\n",
       "    </tr>\n",
       "  </tbody>\n",
       "</table>\n",
       "</div>"
      ],
      "text/plain": [
       "               id  invoice_id  customer_id    quantity    harga_jual  \\\n",
       "count  499.000000  499.000000   499.000000  499.000000    499.000000   \n",
       "mean   250.000000  250.000000    48.016032    1.953908   9438.877756   \n",
       "std    144.193157  144.193157    28.521811    0.796503    496.748002   \n",
       "min      1.000000    1.000000     1.000000    1.000000   9000.000000   \n",
       "25%    125.500000  125.500000    22.000000    1.000000   9000.000000   \n",
       "50%    250.000000  250.000000    48.000000    2.000000   9000.000000   \n",
       "75%    374.500000  374.500000    72.500000    3.000000  10000.000000   \n",
       "max    499.000000  499.000000   100.000000    3.000000  10000.000000   \n",
       "\n",
       "       nilai_penjualan  \n",
       "count       499.000000  \n",
       "mean      18440.881764  \n",
       "std        7575.722958  \n",
       "min        9000.000000  \n",
       "25%       10000.000000  \n",
       "50%       18000.000000  \n",
       "75%       27000.000000  \n",
       "max       30000.000000  "
      ]
     },
     "execution_count": 4,
     "metadata": {},
     "output_type": "execute_result"
    }
   ],
   "source": [
    "# Check Statistik Deskriptif\n",
    "df_warmindo.describe()"
   ]
  },
  {
   "cell_type": "code",
   "execution_count": 5,
   "id": "5a0796f6-5e36-486f-86ab-4c9917e1233c",
   "metadata": {},
   "outputs": [],
   "source": [
    "# Check Data Non-Number Statistik Deskriptif\n",
    "non_numeric_desc = df_warmindo.describe(include=['object'])"
   ]
  },
  {
   "cell_type": "code",
   "execution_count": 6,
   "id": "3581cf89-9019-49c6-a3a9-4185c323126c",
   "metadata": {},
   "outputs": [
    {
     "data": {
      "text/html": [
       "<div>\n",
       "<style scoped>\n",
       "    .dataframe tbody tr th:only-of-type {\n",
       "        vertical-align: middle;\n",
       "    }\n",
       "\n",
       "    .dataframe tbody tr th {\n",
       "        vertical-align: top;\n",
       "    }\n",
       "\n",
       "    .dataframe thead th {\n",
       "        text-align: right;\n",
       "    }\n",
       "</style>\n",
       "<table border=\"1\" class=\"dataframe\">\n",
       "  <thead>\n",
       "    <tr style=\"text-align: right;\">\n",
       "      <th></th>\n",
       "      <th>tanggal_transaksi</th>\n",
       "      <th>nama_produk</th>\n",
       "      <th>jenis_produk</th>\n",
       "      <th>kategori_produk</th>\n",
       "      <th>jenis_pembayaran</th>\n",
       "      <th>jenis_pesanan</th>\n",
       "    </tr>\n",
       "  </thead>\n",
       "  <tbody>\n",
       "    <tr>\n",
       "      <th>count</th>\n",
       "      <td>499</td>\n",
       "      <td>499</td>\n",
       "      <td>499</td>\n",
       "      <td>499</td>\n",
       "      <td>499</td>\n",
       "      <td>499</td>\n",
       "    </tr>\n",
       "    <tr>\n",
       "      <th>unique</th>\n",
       "      <td>207</td>\n",
       "      <td>18</td>\n",
       "      <td>2</td>\n",
       "      <td>1</td>\n",
       "      <td>6</td>\n",
       "      <td>2</td>\n",
       "    </tr>\n",
       "    <tr>\n",
       "      <th>top</th>\n",
       "      <td>5/17/22</td>\n",
       "      <td>Indomie Rasa Soto Banjar Limau Kuit</td>\n",
       "      <td>mie-kuah</td>\n",
       "      <td>makanan</td>\n",
       "      <td>CASH</td>\n",
       "      <td>Dine-In</td>\n",
       "    </tr>\n",
       "    <tr>\n",
       "      <th>freq</th>\n",
       "      <td>8</td>\n",
       "      <td>41</td>\n",
       "      <td>349</td>\n",
       "      <td>499</td>\n",
       "      <td>100</td>\n",
       "      <td>258</td>\n",
       "    </tr>\n",
       "  </tbody>\n",
       "</table>\n",
       "</div>"
      ],
      "text/plain": [
       "       tanggal_transaksi                          nama_produk jenis_produk  \\\n",
       "count                499                                  499          499   \n",
       "unique               207                                   18            2   \n",
       "top              5/17/22  Indomie Rasa Soto Banjar Limau Kuit     mie-kuah   \n",
       "freq                   8                                   41          349   \n",
       "\n",
       "       kategori_produk jenis_pembayaran jenis_pesanan  \n",
       "count              499              499           499  \n",
       "unique               1                6             2  \n",
       "top            makanan             CASH       Dine-In  \n",
       "freq               499              100           258  "
      ]
     },
     "execution_count": 6,
     "metadata": {},
     "output_type": "execute_result"
    }
   ],
   "source": [
    "non_numeric_desc"
   ]
  },
  {
   "cell_type": "code",
   "execution_count": 7,
   "id": "4170356e-8a33-4b92-b3ea-3a9de2a78aec",
   "metadata": {},
   "outputs": [
    {
     "name": "stdout",
     "output_type": "stream",
     "text": [
      "<class 'pandas.core.frame.DataFrame'>\n",
      "RangeIndex: 499 entries, 0 to 498\n",
      "Data columns (total 12 columns):\n",
      " #   Column             Non-Null Count  Dtype \n",
      "---  ------             --------------  ----- \n",
      " 0   id                 499 non-null    int64 \n",
      " 1   invoice_id         499 non-null    int64 \n",
      " 2   tanggal_transaksi  499 non-null    object\n",
      " 3   customer_id        499 non-null    int64 \n",
      " 4   nama_produk        499 non-null    object\n",
      " 5   jenis_produk       499 non-null    object\n",
      " 6   kategori_produk    499 non-null    object\n",
      " 7   quantity           499 non-null    int64 \n",
      " 8   harga_jual         499 non-null    int64 \n",
      " 9   jenis_pembayaran   499 non-null    object\n",
      " 10  jenis_pesanan      499 non-null    object\n",
      " 11  nilai_penjualan    499 non-null    int64 \n",
      "dtypes: int64(6), object(6)\n",
      "memory usage: 46.9+ KB\n"
     ]
    }
   ],
   "source": [
    "# Check Info Dataset\n",
    "df_warmindo.info()"
   ]
  },
  {
   "cell_type": "code",
   "execution_count": 8,
   "id": "232cc58f-5141-4e91-baf6-40bf7f9a6464",
   "metadata": {},
   "outputs": [
    {
     "data": {
      "text/plain": [
       "0"
      ]
     },
     "execution_count": 8,
     "metadata": {},
     "output_type": "execute_result"
    }
   ],
   "source": [
    "# Check Data Duplicated\n",
    "df_warmindo.duplicated().sum()"
   ]
  },
  {
   "cell_type": "markdown",
   "id": "ebe8256c-ca04-4bf5-af01-2345e1507b30",
   "metadata": {},
   "source": [
    "<h1> Data Preparation </h1>\n",
    "\n",
    "- **Pembersihan Data:**\n",
    "    - Mengisi atau menghapus data yang hilang.\n",
    "    - Mengoreksi atau menghapus data anomali.\n",
    "\n",
    "- **Transformasi Data:**\n",
    "    - Mengubah format tanggal_transaksi menjadi datetime.\n",
    "    - Mengelompokkan produk berdasarkan kategori_produk.\n",
    "    - Menambahkan kolom baru jika diperlukan (misalnya, hari dalam minggu, bulan, dll).\n",
    "\n",
    "- **Integrasi Data:**\n",
    "    - Menggabungkan data yang mungkin terpisah (jika ada dataset tambahan)."
   ]
  },
  {
   "cell_type": "code",
   "execution_count": 9,
   "id": "169434c3-3eeb-4e50-8801-dd4ebad91ffd",
   "metadata": {},
   "outputs": [
    {
     "name": "stdout",
     "output_type": "stream",
     "text": [
      "<class 'pandas.core.frame.DataFrame'>\n",
      "RangeIndex: 499 entries, 0 to 498\n",
      "Data columns (total 12 columns):\n",
      " #   Column             Non-Null Count  Dtype         \n",
      "---  ------             --------------  -----         \n",
      " 0   id                 499 non-null    int64         \n",
      " 1   invoice_id         499 non-null    int64         \n",
      " 2   tanggal_transaksi  499 non-null    datetime64[ns]\n",
      " 3   customer_id        499 non-null    int64         \n",
      " 4   nama_produk        499 non-null    object        \n",
      " 5   jenis_produk       499 non-null    object        \n",
      " 6   kategori_produk    499 non-null    object        \n",
      " 7   quantity           499 non-null    int64         \n",
      " 8   harga_jual         499 non-null    int64         \n",
      " 9   jenis_pembayaran   499 non-null    object        \n",
      " 10  jenis_pesanan      499 non-null    object        \n",
      " 11  nilai_penjualan    499 non-null    int64         \n",
      "dtypes: datetime64[ns](1), int64(6), object(5)\n",
      "memory usage: 46.9+ KB\n"
     ]
    },
    {
     "name": "stderr",
     "output_type": "stream",
     "text": [
      "C:\\Users\\syari\\AppData\\Local\\Temp\\ipykernel_16140\\3246414201.py:2: UserWarning: Could not infer format, so each element will be parsed individually, falling back to `dateutil`. To ensure parsing is consistent and as-expected, please specify a format.\n",
      "  df_warmindo['tanggal_transaksi'] = pd.to_datetime(df_warmindo['tanggal_transaksi'])\n"
     ]
    }
   ],
   "source": [
    "# Change Data Type\n",
    "df_warmindo['tanggal_transaksi'] = pd.to_datetime(df_warmindo['tanggal_transaksi'])\n",
    "\n",
    "df_warmindo.info()"
   ]
  },
  {
   "cell_type": "code",
   "execution_count": 10,
   "id": "2b281f25-b073-4fd9-8b67-93d2f6b395af",
   "metadata": {},
   "outputs": [
    {
     "data": {
      "text/html": [
       "<div>\n",
       "<style scoped>\n",
       "    .dataframe tbody tr th:only-of-type {\n",
       "        vertical-align: middle;\n",
       "    }\n",
       "\n",
       "    .dataframe tbody tr th {\n",
       "        vertical-align: top;\n",
       "    }\n",
       "\n",
       "    .dataframe thead th {\n",
       "        text-align: right;\n",
       "    }\n",
       "</style>\n",
       "<table border=\"1\" class=\"dataframe\">\n",
       "  <thead>\n",
       "    <tr style=\"text-align: right;\">\n",
       "      <th></th>\n",
       "      <th>id</th>\n",
       "      <th>invoice_id</th>\n",
       "      <th>tanggal_transaksi</th>\n",
       "      <th>customer_id</th>\n",
       "      <th>nama_produk</th>\n",
       "      <th>jenis_produk</th>\n",
       "      <th>kategori_produk</th>\n",
       "      <th>quantity</th>\n",
       "      <th>harga_jual</th>\n",
       "      <th>jenis_pembayaran</th>\n",
       "      <th>jenis_pesanan</th>\n",
       "      <th>nilai_penjualan</th>\n",
       "    </tr>\n",
       "  </thead>\n",
       "  <tbody>\n",
       "    <tr>\n",
       "      <th>0</th>\n",
       "      <td>1</td>\n",
       "      <td>1</td>\n",
       "      <td>2022-04-11</td>\n",
       "      <td>44</td>\n",
       "      <td>Indomie Ayam Spesial</td>\n",
       "      <td>mie-kuah</td>\n",
       "      <td>makanan</td>\n",
       "      <td>2</td>\n",
       "      <td>9000</td>\n",
       "      <td>QRIS-OVO</td>\n",
       "      <td>Dine-In</td>\n",
       "      <td>18000</td>\n",
       "    </tr>\n",
       "    <tr>\n",
       "      <th>1</th>\n",
       "      <td>2</td>\n",
       "      <td>2</td>\n",
       "      <td>2022-08-01</td>\n",
       "      <td>10</td>\n",
       "      <td>Indomie Ayam Spesial</td>\n",
       "      <td>mie-kuah</td>\n",
       "      <td>makanan</td>\n",
       "      <td>2</td>\n",
       "      <td>9000</td>\n",
       "      <td>CASH</td>\n",
       "      <td>Delivery</td>\n",
       "      <td>18000</td>\n",
       "    </tr>\n",
       "    <tr>\n",
       "      <th>2</th>\n",
       "      <td>3</td>\n",
       "      <td>3</td>\n",
       "      <td>2022-04-03</td>\n",
       "      <td>62</td>\n",
       "      <td>Indomie Rasa Soto Betawi</td>\n",
       "      <td>mie-kuah</td>\n",
       "      <td>makanan</td>\n",
       "      <td>1</td>\n",
       "      <td>10000</td>\n",
       "      <td>QRIS-OTHERS</td>\n",
       "      <td>Delivery</td>\n",
       "      <td>10000</td>\n",
       "    </tr>\n",
       "    <tr>\n",
       "      <th>3</th>\n",
       "      <td>4</td>\n",
       "      <td>4</td>\n",
       "      <td>2022-03-19</td>\n",
       "      <td>48</td>\n",
       "      <td>Indomie Rasa Soto Padang</td>\n",
       "      <td>mie-kuah</td>\n",
       "      <td>makanan</td>\n",
       "      <td>3</td>\n",
       "      <td>10000</td>\n",
       "      <td>CASH</td>\n",
       "      <td>Dine-In</td>\n",
       "      <td>30000</td>\n",
       "    </tr>\n",
       "    <tr>\n",
       "      <th>4</th>\n",
       "      <td>5</td>\n",
       "      <td>5</td>\n",
       "      <td>2022-04-29</td>\n",
       "      <td>87</td>\n",
       "      <td>Indomie Rasa Sop Buntut</td>\n",
       "      <td>mie-kuah</td>\n",
       "      <td>makanan</td>\n",
       "      <td>2</td>\n",
       "      <td>10000</td>\n",
       "      <td>QRIS-OVO</td>\n",
       "      <td>Dine-In</td>\n",
       "      <td>20000</td>\n",
       "    </tr>\n",
       "  </tbody>\n",
       "</table>\n",
       "</div>"
      ],
      "text/plain": [
       "   id  invoice_id tanggal_transaksi  customer_id               nama_produk  \\\n",
       "0   1           1        2022-04-11           44      Indomie Ayam Spesial   \n",
       "1   2           2        2022-08-01           10      Indomie Ayam Spesial   \n",
       "2   3           3        2022-04-03           62  Indomie Rasa Soto Betawi   \n",
       "3   4           4        2022-03-19           48  Indomie Rasa Soto Padang   \n",
       "4   5           5        2022-04-29           87   Indomie Rasa Sop Buntut   \n",
       "\n",
       "  jenis_produk kategori_produk  quantity  harga_jual jenis_pembayaran  \\\n",
       "0     mie-kuah         makanan         2        9000         QRIS-OVO   \n",
       "1     mie-kuah         makanan         2        9000             CASH   \n",
       "2     mie-kuah         makanan         1       10000      QRIS-OTHERS   \n",
       "3     mie-kuah         makanan         3       10000             CASH   \n",
       "4     mie-kuah         makanan         2       10000         QRIS-OVO   \n",
       "\n",
       "  jenis_pesanan  nilai_penjualan  \n",
       "0       Dine-In            18000  \n",
       "1      Delivery            18000  \n",
       "2      Delivery            10000  \n",
       "3       Dine-In            30000  \n",
       "4       Dine-In            20000  "
      ]
     },
     "execution_count": 10,
     "metadata": {},
     "output_type": "execute_result"
    }
   ],
   "source": [
    "df_warmindo.head()"
   ]
  },
  {
   "cell_type": "code",
   "execution_count": 11,
   "id": "fa2aed0a-7a4b-457e-a595-f6c8da8fc308",
   "metadata": {},
   "outputs": [],
   "source": [
    "# Tambah kolom Hari dalam Minggu \n",
    "df_warmindo['hari_dalam_minggu'] = df_warmindo['tanggal_transaksi'].dt.day_name()"
   ]
  },
  {
   "cell_type": "code",
   "execution_count": 12,
   "id": "d59e7d3d-4834-4fa5-9cff-480b8201a22c",
   "metadata": {},
   "outputs": [],
   "source": [
    "# Menambah informasi bulan\n",
    "df_warmindo['bulan'] = df_warmindo['tanggal_transaksi'].dt.month"
   ]
  },
  {
   "cell_type": "code",
   "execution_count": 13,
   "id": "397fa2aa-7882-450e-9be5-c7e536dfc720",
   "metadata": {},
   "outputs": [
    {
     "data": {
      "text/html": [
       "<div>\n",
       "<style scoped>\n",
       "    .dataframe tbody tr th:only-of-type {\n",
       "        vertical-align: middle;\n",
       "    }\n",
       "\n",
       "    .dataframe tbody tr th {\n",
       "        vertical-align: top;\n",
       "    }\n",
       "\n",
       "    .dataframe thead th {\n",
       "        text-align: right;\n",
       "    }\n",
       "</style>\n",
       "<table border=\"1\" class=\"dataframe\">\n",
       "  <thead>\n",
       "    <tr style=\"text-align: right;\">\n",
       "      <th></th>\n",
       "      <th>id</th>\n",
       "      <th>invoice_id</th>\n",
       "      <th>tanggal_transaksi</th>\n",
       "      <th>customer_id</th>\n",
       "      <th>nama_produk</th>\n",
       "      <th>jenis_produk</th>\n",
       "      <th>kategori_produk</th>\n",
       "      <th>quantity</th>\n",
       "      <th>harga_jual</th>\n",
       "      <th>jenis_pembayaran</th>\n",
       "      <th>jenis_pesanan</th>\n",
       "      <th>nilai_penjualan</th>\n",
       "      <th>hari_dalam_minggu</th>\n",
       "      <th>bulan</th>\n",
       "    </tr>\n",
       "  </thead>\n",
       "  <tbody>\n",
       "    <tr>\n",
       "      <th>0</th>\n",
       "      <td>1</td>\n",
       "      <td>1</td>\n",
       "      <td>2022-04-11</td>\n",
       "      <td>44</td>\n",
       "      <td>Indomie Ayam Spesial</td>\n",
       "      <td>mie-kuah</td>\n",
       "      <td>makanan</td>\n",
       "      <td>2</td>\n",
       "      <td>9000</td>\n",
       "      <td>QRIS-OVO</td>\n",
       "      <td>Dine-In</td>\n",
       "      <td>18000</td>\n",
       "      <td>Monday</td>\n",
       "      <td>4</td>\n",
       "    </tr>\n",
       "    <tr>\n",
       "      <th>1</th>\n",
       "      <td>2</td>\n",
       "      <td>2</td>\n",
       "      <td>2022-08-01</td>\n",
       "      <td>10</td>\n",
       "      <td>Indomie Ayam Spesial</td>\n",
       "      <td>mie-kuah</td>\n",
       "      <td>makanan</td>\n",
       "      <td>2</td>\n",
       "      <td>9000</td>\n",
       "      <td>CASH</td>\n",
       "      <td>Delivery</td>\n",
       "      <td>18000</td>\n",
       "      <td>Monday</td>\n",
       "      <td>8</td>\n",
       "    </tr>\n",
       "    <tr>\n",
       "      <th>2</th>\n",
       "      <td>3</td>\n",
       "      <td>3</td>\n",
       "      <td>2022-04-03</td>\n",
       "      <td>62</td>\n",
       "      <td>Indomie Rasa Soto Betawi</td>\n",
       "      <td>mie-kuah</td>\n",
       "      <td>makanan</td>\n",
       "      <td>1</td>\n",
       "      <td>10000</td>\n",
       "      <td>QRIS-OTHERS</td>\n",
       "      <td>Delivery</td>\n",
       "      <td>10000</td>\n",
       "      <td>Sunday</td>\n",
       "      <td>4</td>\n",
       "    </tr>\n",
       "    <tr>\n",
       "      <th>3</th>\n",
       "      <td>4</td>\n",
       "      <td>4</td>\n",
       "      <td>2022-03-19</td>\n",
       "      <td>48</td>\n",
       "      <td>Indomie Rasa Soto Padang</td>\n",
       "      <td>mie-kuah</td>\n",
       "      <td>makanan</td>\n",
       "      <td>3</td>\n",
       "      <td>10000</td>\n",
       "      <td>CASH</td>\n",
       "      <td>Dine-In</td>\n",
       "      <td>30000</td>\n",
       "      <td>Saturday</td>\n",
       "      <td>3</td>\n",
       "    </tr>\n",
       "    <tr>\n",
       "      <th>4</th>\n",
       "      <td>5</td>\n",
       "      <td>5</td>\n",
       "      <td>2022-04-29</td>\n",
       "      <td>87</td>\n",
       "      <td>Indomie Rasa Sop Buntut</td>\n",
       "      <td>mie-kuah</td>\n",
       "      <td>makanan</td>\n",
       "      <td>2</td>\n",
       "      <td>10000</td>\n",
       "      <td>QRIS-OVO</td>\n",
       "      <td>Dine-In</td>\n",
       "      <td>20000</td>\n",
       "      <td>Friday</td>\n",
       "      <td>4</td>\n",
       "    </tr>\n",
       "  </tbody>\n",
       "</table>\n",
       "</div>"
      ],
      "text/plain": [
       "   id  invoice_id tanggal_transaksi  customer_id               nama_produk  \\\n",
       "0   1           1        2022-04-11           44      Indomie Ayam Spesial   \n",
       "1   2           2        2022-08-01           10      Indomie Ayam Spesial   \n",
       "2   3           3        2022-04-03           62  Indomie Rasa Soto Betawi   \n",
       "3   4           4        2022-03-19           48  Indomie Rasa Soto Padang   \n",
       "4   5           5        2022-04-29           87   Indomie Rasa Sop Buntut   \n",
       "\n",
       "  jenis_produk kategori_produk  quantity  harga_jual jenis_pembayaran  \\\n",
       "0     mie-kuah         makanan         2        9000         QRIS-OVO   \n",
       "1     mie-kuah         makanan         2        9000             CASH   \n",
       "2     mie-kuah         makanan         1       10000      QRIS-OTHERS   \n",
       "3     mie-kuah         makanan         3       10000             CASH   \n",
       "4     mie-kuah         makanan         2       10000         QRIS-OVO   \n",
       "\n",
       "  jenis_pesanan  nilai_penjualan hari_dalam_minggu  bulan  \n",
       "0       Dine-In            18000            Monday      4  \n",
       "1      Delivery            18000            Monday      8  \n",
       "2      Delivery            10000            Sunday      4  \n",
       "3       Dine-In            30000          Saturday      3  \n",
       "4       Dine-In            20000            Friday      4  "
      ]
     },
     "execution_count": 13,
     "metadata": {},
     "output_type": "execute_result"
    }
   ],
   "source": [
    "df_warmindo.head()"
   ]
  },
  {
   "cell_type": "code",
   "execution_count": 14,
   "id": "029a0eb4-3662-447c-9a9e-d6a8cdbbe9a6",
   "metadata": {},
   "outputs": [
    {
     "data": {
      "text/plain": [
       "array([4, 8, 3, 7, 2, 1, 6, 5])"
      ]
     },
     "execution_count": 14,
     "metadata": {},
     "output_type": "execute_result"
    }
   ],
   "source": [
    "df_warmindo['bulan'].unique()"
   ]
  },
  {
   "cell_type": "markdown",
   "id": "27e637f6-bc04-46c7-8007-1bb232131c9e",
   "metadata": {},
   "source": [
    "<h1> Exploratory data analysis (EDA) </h1>"
   ]
  },
  {
   "cell_type": "markdown",
   "id": "f5fad7af-56e8-4065-95a2-941c3b117475",
   "metadata": {},
   "source": [
    "### Menganalisis kapan (hari dan bulan) transaksi terjadi untuk mengetahui periode tanggal dan bulan dengan penjualan tertinggi"
   ]
  },
  {
   "cell_type": "code",
   "execution_count": 19,
   "id": "7fe688bb-0f5d-454b-ae7e-27ef61e456b9",
   "metadata": {},
   "outputs": [
    {
     "data": {
      "text/html": [
       "<div>\n",
       "<style scoped>\n",
       "    .dataframe tbody tr th:only-of-type {\n",
       "        vertical-align: middle;\n",
       "    }\n",
       "\n",
       "    .dataframe tbody tr th {\n",
       "        vertical-align: top;\n",
       "    }\n",
       "\n",
       "    .dataframe thead th {\n",
       "        text-align: right;\n",
       "    }\n",
       "</style>\n",
       "<table border=\"1\" class=\"dataframe\">\n",
       "  <thead>\n",
       "    <tr style=\"text-align: right;\">\n",
       "      <th></th>\n",
       "      <th>hari_dalam_minggu</th>\n",
       "      <th>nilai_penjualan</th>\n",
       "    </tr>\n",
       "  </thead>\n",
       "  <tbody>\n",
       "    <tr>\n",
       "      <th>0</th>\n",
       "      <td>Friday</td>\n",
       "      <td>1232000</td>\n",
       "    </tr>\n",
       "    <tr>\n",
       "      <th>1</th>\n",
       "      <td>Monday</td>\n",
       "      <td>1536000</td>\n",
       "    </tr>\n",
       "    <tr>\n",
       "      <th>2</th>\n",
       "      <td>Saturday</td>\n",
       "      <td>1157000</td>\n",
       "    </tr>\n",
       "    <tr>\n",
       "      <th>3</th>\n",
       "      <td>Sunday</td>\n",
       "      <td>1263000</td>\n",
       "    </tr>\n",
       "    <tr>\n",
       "      <th>4</th>\n",
       "      <td>Thursday</td>\n",
       "      <td>990000</td>\n",
       "    </tr>\n",
       "    <tr>\n",
       "      <th>5</th>\n",
       "      <td>Tuesday</td>\n",
       "      <td>1664000</td>\n",
       "    </tr>\n",
       "    <tr>\n",
       "      <th>6</th>\n",
       "      <td>Wednesday</td>\n",
       "      <td>1360000</td>\n",
       "    </tr>\n",
       "  </tbody>\n",
       "</table>\n",
       "</div>"
      ],
      "text/plain": [
       "  hari_dalam_minggu  nilai_penjualan\n",
       "0            Friday          1232000\n",
       "1            Monday          1536000\n",
       "2          Saturday          1157000\n",
       "3            Sunday          1263000\n",
       "4          Thursday           990000\n",
       "5           Tuesday          1664000\n",
       "6         Wednesday          1360000"
      ]
     },
     "execution_count": 19,
     "metadata": {},
     "output_type": "execute_result"
    }
   ],
   "source": [
    "# Mengelompokkan data berdasarkan hari dalam minggu dan menghitung total nilai penjualan\n",
    "sales_by_day = df_warmindo.groupby('hari_dalam_minggu')['nilai_penjualan'].sum().reset_index()\n",
    "\n",
    "sales_by_day"
   ]
  },
  {
   "cell_type": "code",
   "execution_count": 54,
   "id": "39e202f7-58fe-4e51-a4b5-2a29347cdffb",
   "metadata": {},
   "outputs": [
    {
     "data": {
      "text/html": [
       "<div>\n",
       "<style scoped>\n",
       "    .dataframe tbody tr th:only-of-type {\n",
       "        vertical-align: middle;\n",
       "    }\n",
       "\n",
       "    .dataframe tbody tr th {\n",
       "        vertical-align: top;\n",
       "    }\n",
       "\n",
       "    .dataframe thead th {\n",
       "        text-align: right;\n",
       "    }\n",
       "</style>\n",
       "<table border=\"1\" class=\"dataframe\">\n",
       "  <thead>\n",
       "    <tr style=\"text-align: right;\">\n",
       "      <th></th>\n",
       "      <th>bulan</th>\n",
       "      <th>nilai_penjualan</th>\n",
       "    </tr>\n",
       "  </thead>\n",
       "  <tbody>\n",
       "    <tr>\n",
       "      <th>0</th>\n",
       "      <td>1</td>\n",
       "      <td>1072000</td>\n",
       "    </tr>\n",
       "    <tr>\n",
       "      <th>1</th>\n",
       "      <td>2</td>\n",
       "      <td>1187000</td>\n",
       "    </tr>\n",
       "    <tr>\n",
       "      <th>2</th>\n",
       "      <td>3</td>\n",
       "      <td>1051000</td>\n",
       "    </tr>\n",
       "    <tr>\n",
       "      <th>3</th>\n",
       "      <td>4</td>\n",
       "      <td>899000</td>\n",
       "    </tr>\n",
       "    <tr>\n",
       "      <th>4</th>\n",
       "      <td>5</td>\n",
       "      <td>1346000</td>\n",
       "    </tr>\n",
       "    <tr>\n",
       "      <th>5</th>\n",
       "      <td>6</td>\n",
       "      <td>1219000</td>\n",
       "    </tr>\n",
       "    <tr>\n",
       "      <th>6</th>\n",
       "      <td>7</td>\n",
       "      <td>1446000</td>\n",
       "    </tr>\n",
       "    <tr>\n",
       "      <th>7</th>\n",
       "      <td>8</td>\n",
       "      <td>982000</td>\n",
       "    </tr>\n",
       "  </tbody>\n",
       "</table>\n",
       "</div>"
      ],
      "text/plain": [
       "   bulan  nilai_penjualan\n",
       "0      1          1072000\n",
       "1      2          1187000\n",
       "2      3          1051000\n",
       "3      4           899000\n",
       "4      5          1346000\n",
       "5      6          1219000\n",
       "6      7          1446000\n",
       "7      8           982000"
      ]
     },
     "execution_count": 54,
     "metadata": {},
     "output_type": "execute_result"
    }
   ],
   "source": [
    "# Mengelompokkan data berdasarkan bulan dan menghitung total nilai penjualan\n",
    "sales_by_month = df_warmindo.groupby('bulan')['nilai_penjualan'].sum().reset_index()\n",
    "\n",
    "sales_by_month"
   ]
  },
  {
   "cell_type": "code",
   "execution_count": 39,
   "id": "42d2d68e-58d9-4104-aac3-19dd4d4db754",
   "metadata": {},
   "outputs": [],
   "source": [
    "# Menentukan titik puncak Nilai Penjualan\n",
    "max_value = sales_by_day['nilai_penjualan'].max()\n",
    "max_day = sales_by_day[sales_by_day['nilai_penjualan'] == max_value]['hari_dalam_minggu'].values[0]\n",
    "\n",
    "# Nilai penjualan untuk Monday\n",
    "monday_value = sales_by_day[sales_by_day['hari_dalam_minggu'] == 'Monday']['nilai_penjualan'].values[0]"
   ]
  },
  {
   "cell_type": "code",
   "execution_count": 43,
   "id": "936db492-c4c3-4ed9-b298-73eb7d018db5",
   "metadata": {},
   "outputs": [
    {
     "data": {
      "application/vnd.plotly.v1+json": {
       "config": {
        "plotlyServerURL": "https://plot.ly"
       },
       "data": [
        {
         "marker": {
          "size": 8
         },
         "mode": "lines+markers",
         "name": "Nilai Penjualan",
         "type": "scatter",
         "x": [
          "Friday",
          "Monday",
          "Saturday",
          "Sunday",
          "Thursday",
          "Tuesday",
          "Wednesday"
         ],
         "y": [
          1232000,
          1536000,
          1157000,
          1263000,
          990000,
          1664000,
          1360000
         ]
        },
        {
         "marker": {
          "color": "red",
          "size": 12,
          "symbol": "circle"
         },
         "mode": "markers",
         "name": "Puncak",
         "type": "scatter",
         "x": [
          "Tuesday",
          "Monday"
         ],
         "y": [
          1664000,
          1536000
         ]
        }
       ],
       "layout": {
        "autosize": true,
        "template": {
         "data": {
          "bar": [
           {
            "error_x": {
             "color": "#2a3f5f"
            },
            "error_y": {
             "color": "#2a3f5f"
            },
            "marker": {
             "line": {
              "color": "#E5ECF6",
              "width": 0.5
             },
             "pattern": {
              "fillmode": "overlay",
              "size": 10,
              "solidity": 0.2
             }
            },
            "type": "bar"
           }
          ],
          "barpolar": [
           {
            "marker": {
             "line": {
              "color": "#E5ECF6",
              "width": 0.5
             },
             "pattern": {
              "fillmode": "overlay",
              "size": 10,
              "solidity": 0.2
             }
            },
            "type": "barpolar"
           }
          ],
          "carpet": [
           {
            "aaxis": {
             "endlinecolor": "#2a3f5f",
             "gridcolor": "white",
             "linecolor": "white",
             "minorgridcolor": "white",
             "startlinecolor": "#2a3f5f"
            },
            "baxis": {
             "endlinecolor": "#2a3f5f",
             "gridcolor": "white",
             "linecolor": "white",
             "minorgridcolor": "white",
             "startlinecolor": "#2a3f5f"
            },
            "type": "carpet"
           }
          ],
          "choropleth": [
           {
            "colorbar": {
             "outlinewidth": 0,
             "ticks": ""
            },
            "type": "choropleth"
           }
          ],
          "contour": [
           {
            "colorbar": {
             "outlinewidth": 0,
             "ticks": ""
            },
            "colorscale": [
             [
              0,
              "#0d0887"
             ],
             [
              0.1111111111111111,
              "#46039f"
             ],
             [
              0.2222222222222222,
              "#7201a8"
             ],
             [
              0.3333333333333333,
              "#9c179e"
             ],
             [
              0.4444444444444444,
              "#bd3786"
             ],
             [
              0.5555555555555556,
              "#d8576b"
             ],
             [
              0.6666666666666666,
              "#ed7953"
             ],
             [
              0.7777777777777778,
              "#fb9f3a"
             ],
             [
              0.8888888888888888,
              "#fdca26"
             ],
             [
              1,
              "#f0f921"
             ]
            ],
            "type": "contour"
           }
          ],
          "contourcarpet": [
           {
            "colorbar": {
             "outlinewidth": 0,
             "ticks": ""
            },
            "type": "contourcarpet"
           }
          ],
          "heatmap": [
           {
            "colorbar": {
             "outlinewidth": 0,
             "ticks": ""
            },
            "colorscale": [
             [
              0,
              "#0d0887"
             ],
             [
              0.1111111111111111,
              "#46039f"
             ],
             [
              0.2222222222222222,
              "#7201a8"
             ],
             [
              0.3333333333333333,
              "#9c179e"
             ],
             [
              0.4444444444444444,
              "#bd3786"
             ],
             [
              0.5555555555555556,
              "#d8576b"
             ],
             [
              0.6666666666666666,
              "#ed7953"
             ],
             [
              0.7777777777777778,
              "#fb9f3a"
             ],
             [
              0.8888888888888888,
              "#fdca26"
             ],
             [
              1,
              "#f0f921"
             ]
            ],
            "type": "heatmap"
           }
          ],
          "heatmapgl": [
           {
            "colorbar": {
             "outlinewidth": 0,
             "ticks": ""
            },
            "colorscale": [
             [
              0,
              "#0d0887"
             ],
             [
              0.1111111111111111,
              "#46039f"
             ],
             [
              0.2222222222222222,
              "#7201a8"
             ],
             [
              0.3333333333333333,
              "#9c179e"
             ],
             [
              0.4444444444444444,
              "#bd3786"
             ],
             [
              0.5555555555555556,
              "#d8576b"
             ],
             [
              0.6666666666666666,
              "#ed7953"
             ],
             [
              0.7777777777777778,
              "#fb9f3a"
             ],
             [
              0.8888888888888888,
              "#fdca26"
             ],
             [
              1,
              "#f0f921"
             ]
            ],
            "type": "heatmapgl"
           }
          ],
          "histogram": [
           {
            "marker": {
             "pattern": {
              "fillmode": "overlay",
              "size": 10,
              "solidity": 0.2
             }
            },
            "type": "histogram"
           }
          ],
          "histogram2d": [
           {
            "colorbar": {
             "outlinewidth": 0,
             "ticks": ""
            },
            "colorscale": [
             [
              0,
              "#0d0887"
             ],
             [
              0.1111111111111111,
              "#46039f"
             ],
             [
              0.2222222222222222,
              "#7201a8"
             ],
             [
              0.3333333333333333,
              "#9c179e"
             ],
             [
              0.4444444444444444,
              "#bd3786"
             ],
             [
              0.5555555555555556,
              "#d8576b"
             ],
             [
              0.6666666666666666,
              "#ed7953"
             ],
             [
              0.7777777777777778,
              "#fb9f3a"
             ],
             [
              0.8888888888888888,
              "#fdca26"
             ],
             [
              1,
              "#f0f921"
             ]
            ],
            "type": "histogram2d"
           }
          ],
          "histogram2dcontour": [
           {
            "colorbar": {
             "outlinewidth": 0,
             "ticks": ""
            },
            "colorscale": [
             [
              0,
              "#0d0887"
             ],
             [
              0.1111111111111111,
              "#46039f"
             ],
             [
              0.2222222222222222,
              "#7201a8"
             ],
             [
              0.3333333333333333,
              "#9c179e"
             ],
             [
              0.4444444444444444,
              "#bd3786"
             ],
             [
              0.5555555555555556,
              "#d8576b"
             ],
             [
              0.6666666666666666,
              "#ed7953"
             ],
             [
              0.7777777777777778,
              "#fb9f3a"
             ],
             [
              0.8888888888888888,
              "#fdca26"
             ],
             [
              1,
              "#f0f921"
             ]
            ],
            "type": "histogram2dcontour"
           }
          ],
          "mesh3d": [
           {
            "colorbar": {
             "outlinewidth": 0,
             "ticks": ""
            },
            "type": "mesh3d"
           }
          ],
          "parcoords": [
           {
            "line": {
             "colorbar": {
              "outlinewidth": 0,
              "ticks": ""
             }
            },
            "type": "parcoords"
           }
          ],
          "pie": [
           {
            "automargin": true,
            "type": "pie"
           }
          ],
          "scatter": [
           {
            "fillpattern": {
             "fillmode": "overlay",
             "size": 10,
             "solidity": 0.2
            },
            "type": "scatter"
           }
          ],
          "scatter3d": [
           {
            "line": {
             "colorbar": {
              "outlinewidth": 0,
              "ticks": ""
             }
            },
            "marker": {
             "colorbar": {
              "outlinewidth": 0,
              "ticks": ""
             }
            },
            "type": "scatter3d"
           }
          ],
          "scattercarpet": [
           {
            "marker": {
             "colorbar": {
              "outlinewidth": 0,
              "ticks": ""
             }
            },
            "type": "scattercarpet"
           }
          ],
          "scattergeo": [
           {
            "marker": {
             "colorbar": {
              "outlinewidth": 0,
              "ticks": ""
             }
            },
            "type": "scattergeo"
           }
          ],
          "scattergl": [
           {
            "marker": {
             "colorbar": {
              "outlinewidth": 0,
              "ticks": ""
             }
            },
            "type": "scattergl"
           }
          ],
          "scattermapbox": [
           {
            "marker": {
             "colorbar": {
              "outlinewidth": 0,
              "ticks": ""
             }
            },
            "type": "scattermapbox"
           }
          ],
          "scatterpolar": [
           {
            "marker": {
             "colorbar": {
              "outlinewidth": 0,
              "ticks": ""
             }
            },
            "type": "scatterpolar"
           }
          ],
          "scatterpolargl": [
           {
            "marker": {
             "colorbar": {
              "outlinewidth": 0,
              "ticks": ""
             }
            },
            "type": "scatterpolargl"
           }
          ],
          "scatterternary": [
           {
            "marker": {
             "colorbar": {
              "outlinewidth": 0,
              "ticks": ""
             }
            },
            "type": "scatterternary"
           }
          ],
          "surface": [
           {
            "colorbar": {
             "outlinewidth": 0,
             "ticks": ""
            },
            "colorscale": [
             [
              0,
              "#0d0887"
             ],
             [
              0.1111111111111111,
              "#46039f"
             ],
             [
              0.2222222222222222,
              "#7201a8"
             ],
             [
              0.3333333333333333,
              "#9c179e"
             ],
             [
              0.4444444444444444,
              "#bd3786"
             ],
             [
              0.5555555555555556,
              "#d8576b"
             ],
             [
              0.6666666666666666,
              "#ed7953"
             ],
             [
              0.7777777777777778,
              "#fb9f3a"
             ],
             [
              0.8888888888888888,
              "#fdca26"
             ],
             [
              1,
              "#f0f921"
             ]
            ],
            "type": "surface"
           }
          ],
          "table": [
           {
            "cells": {
             "fill": {
              "color": "#EBF0F8"
             },
             "line": {
              "color": "white"
             }
            },
            "header": {
             "fill": {
              "color": "#C8D4E3"
             },
             "line": {
              "color": "white"
             }
            },
            "type": "table"
           }
          ]
         },
         "layout": {
          "annotationdefaults": {
           "arrowcolor": "#2a3f5f",
           "arrowhead": 0,
           "arrowwidth": 1
          },
          "autotypenumbers": "strict",
          "coloraxis": {
           "colorbar": {
            "outlinewidth": 0,
            "ticks": ""
           }
          },
          "colorscale": {
           "diverging": [
            [
             0,
             "#8e0152"
            ],
            [
             0.1,
             "#c51b7d"
            ],
            [
             0.2,
             "#de77ae"
            ],
            [
             0.3,
             "#f1b6da"
            ],
            [
             0.4,
             "#fde0ef"
            ],
            [
             0.5,
             "#f7f7f7"
            ],
            [
             0.6,
             "#e6f5d0"
            ],
            [
             0.7,
             "#b8e186"
            ],
            [
             0.8,
             "#7fbc41"
            ],
            [
             0.9,
             "#4d9221"
            ],
            [
             1,
             "#276419"
            ]
           ],
           "sequential": [
            [
             0,
             "#0d0887"
            ],
            [
             0.1111111111111111,
             "#46039f"
            ],
            [
             0.2222222222222222,
             "#7201a8"
            ],
            [
             0.3333333333333333,
             "#9c179e"
            ],
            [
             0.4444444444444444,
             "#bd3786"
            ],
            [
             0.5555555555555556,
             "#d8576b"
            ],
            [
             0.6666666666666666,
             "#ed7953"
            ],
            [
             0.7777777777777778,
             "#fb9f3a"
            ],
            [
             0.8888888888888888,
             "#fdca26"
            ],
            [
             1,
             "#f0f921"
            ]
           ],
           "sequentialminus": [
            [
             0,
             "#0d0887"
            ],
            [
             0.1111111111111111,
             "#46039f"
            ],
            [
             0.2222222222222222,
             "#7201a8"
            ],
            [
             0.3333333333333333,
             "#9c179e"
            ],
            [
             0.4444444444444444,
             "#bd3786"
            ],
            [
             0.5555555555555556,
             "#d8576b"
            ],
            [
             0.6666666666666666,
             "#ed7953"
            ],
            [
             0.7777777777777778,
             "#fb9f3a"
            ],
            [
             0.8888888888888888,
             "#fdca26"
            ],
            [
             1,
             "#f0f921"
            ]
           ]
          },
          "colorway": [
           "#636efa",
           "#EF553B",
           "#00cc96",
           "#ab63fa",
           "#FFA15A",
           "#19d3f3",
           "#FF6692",
           "#B6E880",
           "#FF97FF",
           "#FECB52"
          ],
          "font": {
           "color": "#2a3f5f"
          },
          "geo": {
           "bgcolor": "white",
           "lakecolor": "white",
           "landcolor": "#E5ECF6",
           "showlakes": true,
           "showland": true,
           "subunitcolor": "white"
          },
          "hoverlabel": {
           "align": "left"
          },
          "hovermode": "closest",
          "mapbox": {
           "style": "light"
          },
          "paper_bgcolor": "white",
          "plot_bgcolor": "#E5ECF6",
          "polar": {
           "angularaxis": {
            "gridcolor": "white",
            "linecolor": "white",
            "ticks": ""
           },
           "bgcolor": "#E5ECF6",
           "radialaxis": {
            "gridcolor": "white",
            "linecolor": "white",
            "ticks": ""
           }
          },
          "scene": {
           "xaxis": {
            "backgroundcolor": "#E5ECF6",
            "gridcolor": "white",
            "gridwidth": 2,
            "linecolor": "white",
            "showbackground": true,
            "ticks": "",
            "zerolinecolor": "white"
           },
           "yaxis": {
            "backgroundcolor": "#E5ECF6",
            "gridcolor": "white",
            "gridwidth": 2,
            "linecolor": "white",
            "showbackground": true,
            "ticks": "",
            "zerolinecolor": "white"
           },
           "zaxis": {
            "backgroundcolor": "#E5ECF6",
            "gridcolor": "white",
            "gridwidth": 2,
            "linecolor": "white",
            "showbackground": true,
            "ticks": "",
            "zerolinecolor": "white"
           }
          },
          "shapedefaults": {
           "line": {
            "color": "#2a3f5f"
           }
          },
          "ternary": {
           "aaxis": {
            "gridcolor": "white",
            "linecolor": "white",
            "ticks": ""
           },
           "baxis": {
            "gridcolor": "white",
            "linecolor": "white",
            "ticks": ""
           },
           "bgcolor": "#E5ECF6",
           "caxis": {
            "gridcolor": "white",
            "linecolor": "white",
            "ticks": ""
           }
          },
          "title": {
           "x": 0.05
          },
          "xaxis": {
           "automargin": true,
           "gridcolor": "white",
           "linecolor": "white",
           "ticks": "",
           "title": {
            "standoff": 15
           },
           "zerolinecolor": "white",
           "zerolinewidth": 2
          },
          "yaxis": {
           "automargin": true,
           "gridcolor": "white",
           "linecolor": "white",
           "ticks": "",
           "title": {
            "standoff": 15
           },
           "zerolinecolor": "white",
           "zerolinewidth": 2
          }
         }
        },
        "title": {
         "text": "Total Nilai Penjualan Berdasarkan Hari"
        },
        "xaxis": {
         "autorange": true,
         "range": [
          -0.4177215189873418,
          6.417721518987342
         ],
         "showspikes": false,
         "title": {
          "text": "Hari"
         },
         "type": "category"
        },
        "yaxis": {
         "autorange": true,
         "range": [
          926882.9431438127,
          1738387.9598662208
         ],
         "showspikes": false,
         "title": {
          "text": "Total Nilai Penjualan"
         },
         "type": "linear"
        }
       }
      },
      "image/png": "[encoded data removed]",
      "text/html": [
       "<div>                            <div id=\"8d84ae83-819f-4188-aa03-5d1e05a3ef6f\" class=\"plotly-graph-div\" style=\"height:525px; width:100%;\"></div>            <script type=\"text/javascript\">                require([\"plotly\"], function(Plotly) {                    window.PLOTLYENV=window.PLOTLYENV || {};                                    if (document.getElementById(\"8d84ae83-819f-4188-aa03-5d1e05a3ef6f\")) {                    Plotly.newPlot(                        \"8d84ae83-819f-4188-aa03-5d1e05a3ef6f\",                        [{\"marker\":{\"size\":8},\"mode\":\"lines+markers\",\"name\":\"Nilai Penjualan\",\"x\":[\"Friday\",\"Monday\",\"Saturday\",\"Sunday\",\"Thursday\",\"Tuesday\",\"Wednesday\"],\"y\":[1232000,1536000,1157000,1263000,990000,1664000,1360000],\"type\":\"scatter\"},{\"marker\":{\"color\":\"red\",\"size\":12,\"symbol\":\"circle\"},\"mode\":\"markers\",\"name\":\"Puncak\",\"x\":[\"Tuesday\",\"Monday\"],\"y\":[1664000,1536000],\"type\":\"scatter\"}],                        {\"template\":{\"data\":{\"histogram2dcontour\":[{\"type\":\"histogram2dcontour\",\"colorbar\":{\"outlinewidth\":0,\"ticks\":\"\"},\"colorscale\":[[0.0,\"#0d0887\"],[0.1111111111111111,\"#46039f\"],[0.2222222222222222,\"#7201a8\"],[0.3333333333333333,\"#9c179e\"],[0.4444444444444444,\"#bd3786\"],[0.5555555555555556,\"#d8576b\"],[0.6666666666666666,\"#ed7953\"],[0.7777777777777778,\"#fb9f3a\"],[0.8888888888888888,\"#fdca26\"],[1.0,\"#f0f921\"]]}],\"choropleth\":[{\"type\":\"choropleth\",\"colorbar\":{\"outlinewidth\":0,\"ticks\":\"\"}}],\"histogram2d\":[{\"type\":\"histogram2d\",\"colorbar\":{\"outlinewidth\":0,\"ticks\":\"\"},\"colorscale\":[[0.0,\"#0d0887\"],[0.1111111111111111,\"#46039f\"],[0.2222222222222222,\"#7201a8\"],[0.3333333333333333,\"#9c179e\"],[0.4444444444444444,\"#bd3786\"],[0.5555555555555556,\"#d8576b\"],[0.6666666666666666,\"#ed7953\"],[0.7777777777777778,\"#fb9f3a\"],[0.8888888888888888,\"#fdca26\"],[1.0,\"#f0f921\"]]}],\"heatmap\":[{\"type\":\"heatmap\",\"colorbar\":{\"outlinewidth\":0,\"ticks\":\"\"},\"colorscale\":[[0.0,\"#0d0887\"],[0.1111111111111111,\"#46039f\"],[0.2222222222222222,\"#7201a8\"],[0.3333333333333333,\"#9c179e\"],[0.4444444444444444,\"#bd3786\"],[0.5555555555555556,\"#d8576b\"],[0.6666666666666666,\"#ed7953\"],[0.7777777777777778,\"#fb9f3a\"],[0.8888888888888888,\"#fdca26\"],[1.0,\"#f0f921\"]]}],\"heatmapgl\":[{\"type\":\"heatmapgl\",\"colorbar\":{\"outlinewidth\":0,\"ticks\":\"\"},\"colorscale\":[[0.0,\"#0d0887\"],[0.1111111111111111,\"#46039f\"],[0.2222222222222222,\"#7201a8\"],[0.3333333333333333,\"#9c179e\"],[0.4444444444444444,\"#bd3786\"],[0.5555555555555556,\"#d8576b\"],[0.6666666666666666,\"#ed7953\"],[0.7777777777777778,\"#fb9f3a\"],[0.8888888888888888,\"#fdca26\"],[1.0,\"#f0f921\"]]}],\"contourcarpet\":[{\"type\":\"contourcarpet\",\"colorbar\":{\"outlinewidth\":0,\"ticks\":\"\"}}],\"contour\":[{\"type\":\"contour\",\"colorbar\":{\"outlinewidth\":0,\"ticks\":\"\"},\"colorscale\":[[0.0,\"#0d0887\"],[0.1111111111111111,\"#46039f\"],[0.2222222222222222,\"#7201a8\"],[0.3333333333333333,\"#9c179e\"],[0.4444444444444444,\"#bd3786\"],[0.5555555555555556,\"#d8576b\"],[0.6666666666666666,\"#ed7953\"],[0.7777777777777778,\"#fb9f3a\"],[0.8888888888888888,\"#fdca26\"],[1.0,\"#f0f921\"]]}],\"surface\":[{\"type\":\"surface\",\"colorbar\":{\"outlinewidth\":0,\"ticks\":\"\"},\"colorscale\":[[0.0,\"#0d0887\"],[0.1111111111111111,\"#46039f\"],[0.2222222222222222,\"#7201a8\"],[0.3333333333333333,\"#9c179e\"],[0.4444444444444444,\"#bd3786\"],[0.5555555555555556,\"#d8576b\"],[0.6666666666666666,\"#ed7953\"],[0.7777777777777778,\"#fb9f3a\"],[0.8888888888888888,\"#fdca26\"],[1.0,\"#f0f921\"]]}],\"mesh3d\":[{\"type\":\"mesh3d\",\"colorbar\":{\"outlinewidth\":0,\"ticks\":\"\"}}],\"scatter\":[{\"fillpattern\":{\"fillmode\":\"overlay\",\"size\":10,\"solidity\":0.2},\"type\":\"scatter\"}],\"parcoords\":[{\"type\":\"parcoords\",\"line\":{\"colorbar\":{\"outlinewidth\":0,\"ticks\":\"\"}}}],\"scatterpolargl\":[{\"type\":\"scatterpolargl\",\"marker\":{\"colorbar\":{\"outlinewidth\":0,\"ticks\":\"\"}}}],\"bar\":[{\"error_x\":{\"color\":\"#2a3f5f\"},\"error_y\":{\"color\":\"#2a3f5f\"},\"marker\":{\"line\":{\"color\":\"#E5ECF6\",\"width\":0.5},\"pattern\":{\"fillmode\":\"overlay\",\"size\":10,\"solidity\":0.2}},\"type\":\"bar\"}],\"scattergeo\":[{\"type\":\"scattergeo\",\"marker\":{\"colorbar\":{\"outlinewidth\":0,\"ticks\":\"\"}}}],\"scatterpolar\":[{\"type\":\"scatterpolar\",\"marker\":{\"colorbar\":{\"outlinewidth\":0,\"ticks\":\"\"}}}],\"histogram\":[{\"marker\":{\"pattern\":{\"fillmode\":\"overlay\",\"size\":10,\"solidity\":0.2}},\"type\":\"histogram\"}],\"scattergl\":[{\"type\":\"scattergl\",\"marker\":{\"colorbar\":{\"outlinewidth\":0,\"ticks\":\"\"}}}],\"scatter3d\":[{\"type\":\"scatter3d\",\"line\":{\"colorbar\":{\"outlinewidth\":0,\"ticks\":\"\"}},\"marker\":{\"colorbar\":{\"outlinewidth\":0,\"ticks\":\"\"}}}],\"scattermapbox\":[{\"type\":\"scattermapbox\",\"marker\":{\"colorbar\":{\"outlinewidth\":0,\"ticks\":\"\"}}}],\"scatterternary\":[{\"type\":\"scatterternary\",\"marker\":{\"colorbar\":{\"outlinewidth\":0,\"ticks\":\"\"}}}],\"scattercarpet\":[{\"type\":\"scattercarpet\",\"marker\":{\"colorbar\":{\"outlinewidth\":0,\"ticks\":\"\"}}}],\"carpet\":[{\"aaxis\":{\"endlinecolor\":\"#2a3f5f\",\"gridcolor\":\"white\",\"linecolor\":\"white\",\"minorgridcolor\":\"white\",\"startlinecolor\":\"#2a3f5f\"},\"baxis\":{\"endlinecolor\":\"#2a3f5f\",\"gridcolor\":\"white\",\"linecolor\":\"white\",\"minorgridcolor\":\"white\",\"startlinecolor\":\"#2a3f5f\"},\"type\":\"carpet\"}],\"table\":[{\"cells\":{\"fill\":{\"color\":\"#EBF0F8\"},\"line\":{\"color\":\"white\"}},\"header\":{\"fill\":{\"color\":\"#C8D4E3\"},\"line\":{\"color\":\"white\"}},\"type\":\"table\"}],\"barpolar\":[{\"marker\":{\"line\":{\"color\":\"#E5ECF6\",\"width\":0.5},\"pattern\":{\"fillmode\":\"overlay\",\"size\":10,\"solidity\":0.2}},\"type\":\"barpolar\"}],\"pie\":[{\"automargin\":true,\"type\":\"pie\"}]},\"layout\":{\"autotypenumbers\":\"strict\",\"colorway\":[\"#636efa\",\"#EF553B\",\"#00cc96\",\"#ab63fa\",\"#FFA15A\",\"#19d3f3\",\"#FF6692\",\"#B6E880\",\"#FF97FF\",\"#FECB52\"],\"font\":{\"color\":\"#2a3f5f\"},\"hovermode\":\"closest\",\"hoverlabel\":{\"align\":\"left\"},\"paper_bgcolor\":\"white\",\"plot_bgcolor\":\"#E5ECF6\",\"polar\":{\"bgcolor\":\"#E5ECF6\",\"angularaxis\":{\"gridcolor\":\"white\",\"linecolor\":\"white\",\"ticks\":\"\"},\"radialaxis\":{\"gridcolor\":\"white\",\"linecolor\":\"white\",\"ticks\":\"\"}},\"ternary\":{\"bgcolor\":\"#E5ECF6\",\"aaxis\":{\"gridcolor\":\"white\",\"linecolor\":\"white\",\"ticks\":\"\"},\"baxis\":{\"gridcolor\":\"white\",\"linecolor\":\"white\",\"ticks\":\"\"},\"caxis\":{\"gridcolor\":\"white\",\"linecolor\":\"white\",\"ticks\":\"\"}},\"coloraxis\":{\"colorbar\":{\"outlinewidth\":0,\"ticks\":\"\"}},\"colorscale\":{\"sequential\":[[0.0,\"#0d0887\"],[0.1111111111111111,\"#46039f\"],[0.2222222222222222,\"#7201a8\"],[0.3333333333333333,\"#9c179e\"],[0.4444444444444444,\"#bd3786\"],[0.5555555555555556,\"#d8576b\"],[0.6666666666666666,\"#ed7953\"],[0.7777777777777778,\"#fb9f3a\"],[0.8888888888888888,\"#fdca26\"],[1.0,\"#f0f921\"]],\"sequentialminus\":[[0.0,\"#0d0887\"],[0.1111111111111111,\"#46039f\"],[0.2222222222222222,\"#7201a8\"],[0.3333333333333333,\"#9c179e\"],[0.4444444444444444,\"#bd3786\"],[0.5555555555555556,\"#d8576b\"],[0.6666666666666666,\"#ed7953\"],[0.7777777777777778,\"#fb9f3a\"],[0.8888888888888888,\"#fdca26\"],[1.0,\"#f0f921\"]],\"diverging\":[[0,\"#8e0152\"],[0.1,\"#c51b7d\"],[0.2,\"#de77ae\"],[0.3,\"#f1b6da\"],[0.4,\"#fde0ef\"],[0.5,\"#f7f7f7\"],[0.6,\"#e6f5d0\"],[0.7,\"#b8e186\"],[0.8,\"#7fbc41\"],[0.9,\"#4d9221\"],[1,\"#276419\"]]},\"xaxis\":{\"gridcolor\":\"white\",\"linecolor\":\"white\",\"ticks\":\"\",\"title\":{\"standoff\":15},\"zerolinecolor\":\"white\",\"automargin\":true,\"zerolinewidth\":2},\"yaxis\":{\"gridcolor\":\"white\",\"linecolor\":\"white\",\"ticks\":\"\",\"title\":{\"standoff\":15},\"zerolinecolor\":\"white\",\"automargin\":true,\"zerolinewidth\":2},\"scene\":{\"xaxis\":{\"backgroundcolor\":\"#E5ECF6\",\"gridcolor\":\"white\",\"linecolor\":\"white\",\"showbackground\":true,\"ticks\":\"\",\"zerolinecolor\":\"white\",\"gridwidth\":2},\"yaxis\":{\"backgroundcolor\":\"#E5ECF6\",\"gridcolor\":\"white\",\"linecolor\":\"white\",\"showbackground\":true,\"ticks\":\"\",\"zerolinecolor\":\"white\",\"gridwidth\":2},\"zaxis\":{\"backgroundcolor\":\"#E5ECF6\",\"gridcolor\":\"white\",\"linecolor\":\"white\",\"showbackground\":true,\"ticks\":\"\",\"zerolinecolor\":\"white\",\"gridwidth\":2}},\"shapedefaults\":{\"line\":{\"color\":\"#2a3f5f\"}},\"annotationdefaults\":{\"arrowcolor\":\"#2a3f5f\",\"arrowhead\":0,\"arrowwidth\":1},\"geo\":{\"bgcolor\":\"white\",\"landcolor\":\"#E5ECF6\",\"subunitcolor\":\"white\",\"showland\":true,\"showlakes\":true,\"lakecolor\":\"white\"},\"title\":{\"x\":0.05},\"mapbox\":{\"style\":\"light\"}}},\"title\":{\"text\":\"Total Nilai Penjualan Berdasarkan Hari\"},\"xaxis\":{\"title\":{\"text\":\"Hari\"}},\"yaxis\":{\"title\":{\"text\":\"Total Nilai Penjualan\"}}},                        {\"responsive\": true}                    ).then(function(){\n",
       "                            \n",
       "var gd = document.getElementById('8d84ae83-819f-4188-aa03-5d1e05a3ef6f');\n",
       "var x = new MutationObserver(function (mutations, observer) {{\n",
       "        var display = window.getComputedStyle(gd).display;\n",
       "        if (!display || display === 'none') {{\n",
       "            console.log([gd, 'removed!']);\n",
       "            Plotly.purge(gd);\n",
       "            observer.disconnect();\n",
       "        }}\n",
       "}});\n",
       "\n",
       "// Listen for the removal of the full notebook cells\n",
       "var notebookContainer = gd.closest('#notebook-container');\n",
       "if (notebookContainer) {{\n",
       "    x.observe(notebookContainer, {childList: true});\n",
       "}}\n",
       "\n",
       "// Listen for the clearing of the current output cell\n",
       "var outputEl = gd.closest('.output');\n",
       "if (outputEl) {{\n",
       "    x.observe(outputEl, {childList: true});\n",
       "}}\n",
       "\n",
       "                        })                };                });            </script>        </div>"
      ]
     },
     "metadata": {},
     "output_type": "display_data"
    }
   ],
   "source": [
    "# Membuat lineplot Untuk Nilai Penjualan Berdasarkan Hari\n",
    "fig = go.Figure()\n",
    "fig.add_trace(go.Scatter(\n",
    "    x=sales_by_day['hari_dalam_minggu'],\n",
    "    y=sales_by_day['nilai_penjualan'],\n",
    "    mode='lines+markers',\n",
    "    name='Nilai Penjualan',\n",
    "    marker=dict(size=8)\n",
    "))\n",
    "\n",
    "# Menambhakan lingkaran pada titik puncak\n",
    "fig.add_trace(go.Scatter(\n",
    "    x=[max_day, 'Monday'],\n",
    "    y=[max_value, monday_value],\n",
    "    mode='markers',\n",
    "    name='Puncak',\n",
    "    marker=dict(size=12, color='red', symbol='circle')\n",
    "))\n",
    "\n",
    "# Menambahkan judul dan label sumbu x & y\n",
    "fig.update_layout(\n",
    "    title='Total Nilai Penjualan Berdasarkan Hari',\n",
    "    xaxis_title='Hari',\n",
    "    yaxis_title='Total Nilai Penjualan'\n",
    ")\n",
    "fig.show()"
   ]
  },
  {
   "cell_type": "code",
   "execution_count": 60,
   "id": "afade648-7a02-4ebc-8491-3cc5d0891b7e",
   "metadata": {},
   "outputs": [],
   "source": [
    "# Menentukan titil puncak nilai penjualan bulanan\n",
    "max_value_month = sales_by_month['nilai_penjualan'].max()\n",
    "max_month = sales_by_month[sales_by_month['nilai_penjualan'] == max_value_month]['bulan'].values[0]\n",
    "\n",
    "# Nilai penjualan untuk Monday\n",
    "mei_value = sales_by_month[sales_by_month['bulan'] == 5]['nilai_penjualan'].values[0]"
   ]
  },
  {
   "cell_type": "code",
   "execution_count": 61,
   "id": "00649000-eeea-46d7-a408-447d613e347f",
   "metadata": {},
   "outputs": [
    {
     "data": {
      "application/vnd.plotly.v1+json": {
       "config": {
        "plotlyServerURL": "https://plot.ly"
       },
       "data": [
        {
         "marker": {
          "size": 8
         },
         "mode": "lines+markers",
         "name": "nilai_penjualan",
         "type": "scatter",
         "x": [
          1,
          2,
          3,
          4,
          5,
          6,
          7,
          8
         ],
         "y": [
          1072000,
          1187000,
          1051000,
          899000,
          1346000,
          1219000,
          1446000,
          982000
         ]
        },
        {
         "marker": {
          "color": "red",
          "size": 12,
          "symbol": "circle"
         },
         "mode": "markers",
         "name": "Puncak",
         "type": "scatter",
         "x": [
          7,
          "5"
         ],
         "y": [
          1446000,
          1346000
         ]
        }
       ],
       "layout": {
        "autosize": true,
        "template": {
         "data": {
          "bar": [
           {
            "error_x": {
             "color": "#2a3f5f"
            },
            "error_y": {
             "color": "#2a3f5f"
            },
            "marker": {
             "line": {
              "color": "#E5ECF6",
              "width": 0.5
             },
             "pattern": {
              "fillmode": "overlay",
              "size": 10,
              "solidity": 0.2
             }
            },
            "type": "bar"
           }
          ],
          "barpolar": [
           {
            "marker": {
             "line": {
              "color": "#E5ECF6",
              "width": 0.5
             },
             "pattern": {
              "fillmode": "overlay",
              "size": 10,
              "solidity": 0.2
             }
            },
            "type": "barpolar"
           }
          ],
          "carpet": [
           {
            "aaxis": {
             "endlinecolor": "#2a3f5f",
             "gridcolor": "white",
             "linecolor": "white",
             "minorgridcolor": "white",
             "startlinecolor": "#2a3f5f"
            },
            "baxis": {
             "endlinecolor": "#2a3f5f",
             "gridcolor": "white",
             "linecolor": "white",
             "minorgridcolor": "white",
             "startlinecolor": "#2a3f5f"
            },
            "type": "carpet"
           }
          ],
          "choropleth": [
           {
            "colorbar": {
             "outlinewidth": 0,
             "ticks": ""
            },
            "type": "choropleth"
           }
          ],
          "contour": [
           {
            "colorbar": {
             "outlinewidth": 0,
             "ticks": ""
            },
            "colorscale": [
             [
              0,
              "#0d0887"
             ],
             [
              0.1111111111111111,
              "#46039f"
             ],
             [
              0.2222222222222222,
              "#7201a8"
             ],
             [
              0.3333333333333333,
              "#9c179e"
             ],
             [
              0.4444444444444444,
              "#bd3786"
             ],
             [
              0.5555555555555556,
              "#d8576b"
             ],
             [
              0.6666666666666666,
              "#ed7953"
             ],
             [
              0.7777777777777778,
              "#fb9f3a"
             ],
             [
              0.8888888888888888,
              "#fdca26"
             ],
             [
              1,
              "#f0f921"
             ]
            ],
            "type": "contour"
           }
          ],
          "contourcarpet": [
           {
            "colorbar": {
             "outlinewidth": 0,
             "ticks": ""
            },
            "type": "contourcarpet"
           }
          ],
          "heatmap": [
           {
            "colorbar": {
             "outlinewidth": 0,
             "ticks": ""
            },
            "colorscale": [
             [
              0,
              "#0d0887"
             ],
             [
              0.1111111111111111,
              "#46039f"
             ],
             [
              0.2222222222222222,
              "#7201a8"
             ],
             [
              0.3333333333333333,
              "#9c179e"
             ],
             [
              0.4444444444444444,
              "#bd3786"
             ],
             [
              0.5555555555555556,
              "#d8576b"
             ],
             [
              0.6666666666666666,
              "#ed7953"
             ],
             [
              0.7777777777777778,
              "#fb9f3a"
             ],
             [
              0.8888888888888888,
              "#fdca26"
             ],
             [
              1,
              "#f0f921"
             ]
            ],
            "type": "heatmap"
           }
          ],
          "heatmapgl": [
           {
            "colorbar": {
             "outlinewidth": 0,
             "ticks": ""
            },
            "colorscale": [
             [
              0,
              "#0d0887"
             ],
             [
              0.1111111111111111,
              "#46039f"
             ],
             [
              0.2222222222222222,
              "#7201a8"
             ],
             [
              0.3333333333333333,
              "#9c179e"
             ],
             [
              0.4444444444444444,
              "#bd3786"
             ],
             [
              0.5555555555555556,
              "#d8576b"
             ],
             [
              0.6666666666666666,
              "#ed7953"
             ],
             [
              0.7777777777777778,
              "#fb9f3a"
             ],
             [
              0.8888888888888888,
              "#fdca26"
             ],
             [
              1,
              "#f0f921"
             ]
            ],
            "type": "heatmapgl"
           }
          ],
          "histogram": [
           {
            "marker": {
             "pattern": {
              "fillmode": "overlay",
              "size": 10,
              "solidity": 0.2
             }
            },
            "type": "histogram"
           }
          ],
          "histogram2d": [
           {
            "colorbar": {
             "outlinewidth": 0,
             "ticks": ""
            },
            "colorscale": [
             [
              0,
              "#0d0887"
             ],
             [
              0.1111111111111111,
              "#46039f"
             ],
             [
              0.2222222222222222,
              "#7201a8"
             ],
             [
              0.3333333333333333,
              "#9c179e"
             ],
             [
              0.4444444444444444,
              "#bd3786"
             ],
             [
              0.5555555555555556,
              "#d8576b"
             ],
             [
              0.6666666666666666,
              "#ed7953"
             ],
             [
              0.7777777777777778,
              "#fb9f3a"
             ],
             [
              0.8888888888888888,
              "#fdca26"
             ],
             [
              1,
              "#f0f921"
             ]
            ],
            "type": "histogram2d"
           }
          ],
          "histogram2dcontour": [
           {
            "colorbar": {
             "outlinewidth": 0,
             "ticks": ""
            },
            "colorscale": [
             [
              0,
              "#0d0887"
             ],
             [
              0.1111111111111111,
              "#46039f"
             ],
             [
              0.2222222222222222,
              "#7201a8"
             ],
             [
              0.3333333333333333,
              "#9c179e"
             ],
             [
              0.4444444444444444,
              "#bd3786"
             ],
             [
              0.5555555555555556,
              "#d8576b"
             ],
             [
              0.6666666666666666,
              "#ed7953"
             ],
             [
              0.7777777777777778,
              "#fb9f3a"
             ],
             [
              0.8888888888888888,
              "#fdca26"
             ],
             [
              1,
              "#f0f921"
             ]
            ],
            "type": "histogram2dcontour"
           }
          ],
          "mesh3d": [
           {
            "colorbar": {
             "outlinewidth": 0,
             "ticks": ""
            },
            "type": "mesh3d"
           }
          ],
          "parcoords": [
           {
            "line": {
             "colorbar": {
              "outlinewidth": 0,
              "ticks": ""
             }
            },
            "type": "parcoords"
           }
          ],
          "pie": [
           {
            "automargin": true,
            "type": "pie"
           }
          ],
          "scatter": [
           {
            "fillpattern": {
             "fillmode": "overlay",
             "size": 10,
             "solidity": 0.2
            },
            "type": "scatter"
           }
          ],
          "scatter3d": [
           {
            "line": {
             "colorbar": {
              "outlinewidth": 0,
              "ticks": ""
             }
            },
            "marker": {
             "colorbar": {
              "outlinewidth": 0,
              "ticks": ""
             }
            },
            "type": "scatter3d"
           }
          ],
          "scattercarpet": [
           {
            "marker": {
             "colorbar": {
              "outlinewidth": 0,
              "ticks": ""
             }
            },
            "type": "scattercarpet"
           }
          ],
          "scattergeo": [
           {
            "marker": {
             "colorbar": {
              "outlinewidth": 0,
              "ticks": ""
             }
            },
            "type": "scattergeo"
           }
          ],
          "scattergl": [
           {
            "marker": {
             "colorbar": {
              "outlinewidth": 0,
              "ticks": ""
             }
            },
            "type": "scattergl"
           }
          ],
          "scattermapbox": [
           {
            "marker": {
             "colorbar": {
              "outlinewidth": 0,
              "ticks": ""
             }
            },
            "type": "scattermapbox"
           }
          ],
          "scatterpolar": [
           {
            "marker": {
             "colorbar": {
              "outlinewidth": 0,
              "ticks": ""
             }
            },
            "type": "scatterpolar"
           }
          ],
          "scatterpolargl": [
           {
            "marker": {
             "colorbar": {
              "outlinewidth": 0,
              "ticks": ""
             }
            },
            "type": "scatterpolargl"
           }
          ],
          "scatterternary": [
           {
            "marker": {
             "colorbar": {
              "outlinewidth": 0,
              "ticks": ""
             }
            },
            "type": "scatterternary"
           }
          ],
          "surface": [
           {
            "colorbar": {
             "outlinewidth": 0,
             "ticks": ""
            },
            "colorscale": [
             [
              0,
              "#0d0887"
             ],
             [
              0.1111111111111111,
              "#46039f"
             ],
             [
              0.2222222222222222,
              "#7201a8"
             ],
             [
              0.3333333333333333,
              "#9c179e"
             ],
             [
              0.4444444444444444,
              "#bd3786"
             ],
             [
              0.5555555555555556,
              "#d8576b"
             ],
             [
              0.6666666666666666,
              "#ed7953"
             ],
             [
              0.7777777777777778,
              "#fb9f3a"
             ],
             [
              0.8888888888888888,
              "#fdca26"
             ],
             [
              1,
              "#f0f921"
             ]
            ],
            "type": "surface"
           }
          ],
          "table": [
           {
            "cells": {
             "fill": {
              "color": "#EBF0F8"
             },
             "line": {
              "color": "white"
             }
            },
            "header": {
             "fill": {
              "color": "#C8D4E3"
             },
             "line": {
              "color": "white"
             }
            },
            "type": "table"
           }
          ]
         },
         "layout": {
          "annotationdefaults": {
           "arrowcolor": "#2a3f5f",
           "arrowhead": 0,
           "arrowwidth": 1
          },
          "autotypenumbers": "strict",
          "coloraxis": {
           "colorbar": {
            "outlinewidth": 0,
            "ticks": ""
           }
          },
          "colorscale": {
           "diverging": [
            [
             0,
             "#8e0152"
            ],
            [
             0.1,
             "#c51b7d"
            ],
            [
             0.2,
             "#de77ae"
            ],
            [
             0.3,
             "#f1b6da"
            ],
            [
             0.4,
             "#fde0ef"
            ],
            [
             0.5,
             "#f7f7f7"
            ],
            [
             0.6,
             "#e6f5d0"
            ],
            [
             0.7,
             "#b8e186"
            ],
            [
             0.8,
             "#7fbc41"
            ],
            [
             0.9,
             "#4d9221"
            ],
            [
             1,
             "#276419"
            ]
           ],
           "sequential": [
            [
             0,
             "#0d0887"
            ],
            [
             0.1111111111111111,
             "#46039f"
            ],
            [
             0.2222222222222222,
             "#7201a8"
            ],
            [
             0.3333333333333333,
             "#9c179e"
            ],
            [
             0.4444444444444444,
             "#bd3786"
            ],
            [
             0.5555555555555556,
             "#d8576b"
            ],
            [
             0.6666666666666666,
             "#ed7953"
            ],
            [
             0.7777777777777778,
             "#fb9f3a"
            ],
            [
             0.8888888888888888,
             "#fdca26"
            ],
            [
             1,
             "#f0f921"
            ]
           ],
           "sequentialminus": [
            [
             0,
             "#0d0887"
            ],
            [
             0.1111111111111111,
             "#46039f"
            ],
            [
             0.2222222222222222,
             "#7201a8"
            ],
            [
             0.3333333333333333,
             "#9c179e"
            ],
            [
             0.4444444444444444,
             "#bd3786"
            ],
            [
             0.5555555555555556,
             "#d8576b"
            ],
            [
             0.6666666666666666,
             "#ed7953"
            ],
            [
             0.7777777777777778,
             "#fb9f3a"
            ],
            [
             0.8888888888888888,
             "#fdca26"
            ],
            [
             1,
             "#f0f921"
            ]
           ]
          },
          "colorway": [
           "#636efa",
           "#EF553B",
           "#00cc96",
           "#ab63fa",
           "#FFA15A",
           "#19d3f3",
           "#FF6692",
           "#B6E880",
           "#FF97FF",
           "#FECB52"
          ],
          "font": {
           "color": "#2a3f5f"
          },
          "geo": {
           "bgcolor": "white",
           "lakecolor": "white",
           "landcolor": "#E5ECF6",
           "showlakes": true,
           "showland": true,
           "subunitcolor": "white"
          },
          "hoverlabel": {
           "align": "left"
          },
          "hovermode": "closest",
          "mapbox": {
           "style": "light"
          },
          "paper_bgcolor": "white",
          "plot_bgcolor": "#E5ECF6",
          "polar": {
           "angularaxis": {
            "gridcolor": "white",
            "linecolor": "white",
            "ticks": ""
           },
           "bgcolor": "#E5ECF6",
           "radialaxis": {
            "gridcolor": "white",
            "linecolor": "white",
            "ticks": ""
           }
          },
          "scene": {
           "xaxis": {
            "backgroundcolor": "#E5ECF6",
            "gridcolor": "white",
            "gridwidth": 2,
            "linecolor": "white",
            "showbackground": true,
            "ticks": "",
            "zerolinecolor": "white"
           },
           "yaxis": {
            "backgroundcolor": "#E5ECF6",
            "gridcolor": "white",
            "gridwidth": 2,
            "linecolor": "white",
            "showbackground": true,
            "ticks": "",
            "zerolinecolor": "white"
           },
           "zaxis": {
            "backgroundcolor": "#E5ECF6",
            "gridcolor": "white",
            "gridwidth": 2,
            "linecolor": "white",
            "showbackground": true,
            "ticks": "",
            "zerolinecolor": "white"
           }
          },
          "shapedefaults": {
           "line": {
            "color": "#2a3f5f"
           }
          },
          "ternary": {
           "aaxis": {
            "gridcolor": "white",
            "linecolor": "white",
            "ticks": ""
           },
           "baxis": {
            "gridcolor": "white",
            "linecolor": "white",
            "ticks": ""
           },
           "bgcolor": "#E5ECF6",
           "caxis": {
            "gridcolor": "white",
            "linecolor": "white",
            "ticks": ""
           }
          },
          "title": {
           "x": 0.05
          },
          "xaxis": {
           "automargin": true,
           "gridcolor": "white",
           "linecolor": "white",
           "ticks": "",
           "title": {
            "standoff": 15
           },
           "zerolinecolor": "white",
           "zerolinewidth": 2
          },
          "yaxis": {
           "automargin": true,
           "gridcolor": "white",
           "linecolor": "white",
           "ticks": "",
           "title": {
            "standoff": 15
           },
           "zerolinecolor": "white",
           "zerolinewidth": 2
          }
         }
        },
        "title": {
         "text": "Total Nilai Penjualan Berdasarkan Bulan"
        },
        "xaxis": {
         "autorange": true,
         "range": [
          0.5124333925399644,
          8.487566607460035
         ],
         "title": {
          "text": "Bulan"
         },
         "type": "linear"
        },
        "yaxis": {
         "autorange": true,
         "range": [
          847775.9197324414,
          1506371.237458194
         ],
         "title": {
          "text": "Total Nilai Penjualan"
         },
         "type": "linear"
        }
       }
      },
      "image/png": "[encoded data removed]",
      "text/html": [
       "<div>                            <div id=\"1ba06141-392f-461e-8217-59bce9e7f48f\" class=\"plotly-graph-div\" style=\"height:525px; width:100%;\"></div>            <script type=\"text/javascript\">                require([\"plotly\"], function(Plotly) {                    window.PLOTLYENV=window.PLOTLYENV || {};                                    if (document.getElementById(\"1ba06141-392f-461e-8217-59bce9e7f48f\")) {                    Plotly.newPlot(                        \"1ba06141-392f-461e-8217-59bce9e7f48f\",                        [{\"marker\":{\"size\":8},\"mode\":\"lines+markers\",\"name\":\"nilai_penjualan\",\"x\":[1,2,3,4,5,6,7,8],\"y\":[1072000,1187000,1051000,899000,1346000,1219000,1446000,982000],\"type\":\"scatter\"},{\"marker\":{\"color\":\"red\",\"size\":12,\"symbol\":\"circle\"},\"mode\":\"markers\",\"name\":\"Puncak\",\"x\":[7,\"5\"],\"y\":[1446000,1346000],\"type\":\"scatter\"}],                        {\"template\":{\"data\":{\"histogram2dcontour\":[{\"type\":\"histogram2dcontour\",\"colorbar\":{\"outlinewidth\":0,\"ticks\":\"\"},\"colorscale\":[[0.0,\"#0d0887\"],[0.1111111111111111,\"#46039f\"],[0.2222222222222222,\"#7201a8\"],[0.3333333333333333,\"#9c179e\"],[0.4444444444444444,\"#bd3786\"],[0.5555555555555556,\"#d8576b\"],[0.6666666666666666,\"#ed7953\"],[0.7777777777777778,\"#fb9f3a\"],[0.8888888888888888,\"#fdca26\"],[1.0,\"#f0f921\"]]}],\"choropleth\":[{\"type\":\"choropleth\",\"colorbar\":{\"outlinewidth\":0,\"ticks\":\"\"}}],\"histogram2d\":[{\"type\":\"histogram2d\",\"colorbar\":{\"outlinewidth\":0,\"ticks\":\"\"},\"colorscale\":[[0.0,\"#0d0887\"],[0.1111111111111111,\"#46039f\"],[0.2222222222222222,\"#7201a8\"],[0.3333333333333333,\"#9c179e\"],[0.4444444444444444,\"#bd3786\"],[0.5555555555555556,\"#d8576b\"],[0.6666666666666666,\"#ed7953\"],[0.7777777777777778,\"#fb9f3a\"],[0.8888888888888888,\"#fdca26\"],[1.0,\"#f0f921\"]]}],\"heatmap\":[{\"type\":\"heatmap\",\"colorbar\":{\"outlinewidth\":0,\"ticks\":\"\"},\"colorscale\":[[0.0,\"#0d0887\"],[0.1111111111111111,\"#46039f\"],[0.2222222222222222,\"#7201a8\"],[0.3333333333333333,\"#9c179e\"],[0.4444444444444444,\"#bd3786\"],[0.5555555555555556,\"#d8576b\"],[0.6666666666666666,\"#ed7953\"],[0.7777777777777778,\"#fb9f3a\"],[0.8888888888888888,\"#fdca26\"],[1.0,\"#f0f921\"]]}],\"heatmapgl\":[{\"type\":\"heatmapgl\",\"colorbar\":{\"outlinewidth\":0,\"ticks\":\"\"},\"colorscale\":[[0.0,\"#0d0887\"],[0.1111111111111111,\"#46039f\"],[0.2222222222222222,\"#7201a8\"],[0.3333333333333333,\"#9c179e\"],[0.4444444444444444,\"#bd3786\"],[0.5555555555555556,\"#d8576b\"],[0.6666666666666666,\"#ed7953\"],[0.7777777777777778,\"#fb9f3a\"],[0.8888888888888888,\"#fdca26\"],[1.0,\"#f0f921\"]]}],\"contourcarpet\":[{\"type\":\"contourcarpet\",\"colorbar\":{\"outlinewidth\":0,\"ticks\":\"\"}}],\"contour\":[{\"type\":\"contour\",\"colorbar\":{\"outlinewidth\":0,\"ticks\":\"\"},\"colorscale\":[[0.0,\"#0d0887\"],[0.1111111111111111,\"#46039f\"],[0.2222222222222222,\"#7201a8\"],[0.3333333333333333,\"#9c179e\"],[0.4444444444444444,\"#bd3786\"],[0.5555555555555556,\"#d8576b\"],[0.6666666666666666,\"#ed7953\"],[0.7777777777777778,\"#fb9f3a\"],[0.8888888888888888,\"#fdca26\"],[1.0,\"#f0f921\"]]}],\"surface\":[{\"type\":\"surface\",\"colorbar\":{\"outlinewidth\":0,\"ticks\":\"\"},\"colorscale\":[[0.0,\"#0d0887\"],[0.1111111111111111,\"#46039f\"],[0.2222222222222222,\"#7201a8\"],[0.3333333333333333,\"#9c179e\"],[0.4444444444444444,\"#bd3786\"],[0.5555555555555556,\"#d8576b\"],[0.6666666666666666,\"#ed7953\"],[0.7777777777777778,\"#fb9f3a\"],[0.8888888888888888,\"#fdca26\"],[1.0,\"#f0f921\"]]}],\"mesh3d\":[{\"type\":\"mesh3d\",\"colorbar\":{\"outlinewidth\":0,\"ticks\":\"\"}}],\"scatter\":[{\"fillpattern\":{\"fillmode\":\"overlay\",\"size\":10,\"solidity\":0.2},\"type\":\"scatter\"}],\"parcoords\":[{\"type\":\"parcoords\",\"line\":{\"colorbar\":{\"outlinewidth\":0,\"ticks\":\"\"}}}],\"scatterpolargl\":[{\"type\":\"scatterpolargl\",\"marker\":{\"colorbar\":{\"outlinewidth\":0,\"ticks\":\"\"}}}],\"bar\":[{\"error_x\":{\"color\":\"#2a3f5f\"},\"error_y\":{\"color\":\"#2a3f5f\"},\"marker\":{\"line\":{\"color\":\"#E5ECF6\",\"width\":0.5},\"pattern\":{\"fillmode\":\"overlay\",\"size\":10,\"solidity\":0.2}},\"type\":\"bar\"}],\"scattergeo\":[{\"type\":\"scattergeo\",\"marker\":{\"colorbar\":{\"outlinewidth\":0,\"ticks\":\"\"}}}],\"scatterpolar\":[{\"type\":\"scatterpolar\",\"marker\":{\"colorbar\":{\"outlinewidth\":0,\"ticks\":\"\"}}}],\"histogram\":[{\"marker\":{\"pattern\":{\"fillmode\":\"overlay\",\"size\":10,\"solidity\":0.2}},\"type\":\"histogram\"}],\"scattergl\":[{\"type\":\"scattergl\",\"marker\":{\"colorbar\":{\"outlinewidth\":0,\"ticks\":\"\"}}}],\"scatter3d\":[{\"type\":\"scatter3d\",\"line\":{\"colorbar\":{\"outlinewidth\":0,\"ticks\":\"\"}},\"marker\":{\"colorbar\":{\"outlinewidth\":0,\"ticks\":\"\"}}}],\"scattermapbox\":[{\"type\":\"scattermapbox\",\"marker\":{\"colorbar\":{\"outlinewidth\":0,\"ticks\":\"\"}}}],\"scatterternary\":[{\"type\":\"scatterternary\",\"marker\":{\"colorbar\":{\"outlinewidth\":0,\"ticks\":\"\"}}}],\"scattercarpet\":[{\"type\":\"scattercarpet\",\"marker\":{\"colorbar\":{\"outlinewidth\":0,\"ticks\":\"\"}}}],\"carpet\":[{\"aaxis\":{\"endlinecolor\":\"#2a3f5f\",\"gridcolor\":\"white\",\"linecolor\":\"white\",\"minorgridcolor\":\"white\",\"startlinecolor\":\"#2a3f5f\"},\"baxis\":{\"endlinecolor\":\"#2a3f5f\",\"gridcolor\":\"white\",\"linecolor\":\"white\",\"minorgridcolor\":\"white\",\"startlinecolor\":\"#2a3f5f\"},\"type\":\"carpet\"}],\"table\":[{\"cells\":{\"fill\":{\"color\":\"#EBF0F8\"},\"line\":{\"color\":\"white\"}},\"header\":{\"fill\":{\"color\":\"#C8D4E3\"},\"line\":{\"color\":\"white\"}},\"type\":\"table\"}],\"barpolar\":[{\"marker\":{\"line\":{\"color\":\"#E5ECF6\",\"width\":0.5},\"pattern\":{\"fillmode\":\"overlay\",\"size\":10,\"solidity\":0.2}},\"type\":\"barpolar\"}],\"pie\":[{\"automargin\":true,\"type\":\"pie\"}]},\"layout\":{\"autotypenumbers\":\"strict\",\"colorway\":[\"#636efa\",\"#EF553B\",\"#00cc96\",\"#ab63fa\",\"#FFA15A\",\"#19d3f3\",\"#FF6692\",\"#B6E880\",\"#FF97FF\",\"#FECB52\"],\"font\":{\"color\":\"#2a3f5f\"},\"hovermode\":\"closest\",\"hoverlabel\":{\"align\":\"left\"},\"paper_bgcolor\":\"white\",\"plot_bgcolor\":\"#E5ECF6\",\"polar\":{\"bgcolor\":\"#E5ECF6\",\"angularaxis\":{\"gridcolor\":\"white\",\"linecolor\":\"white\",\"ticks\":\"\"},\"radialaxis\":{\"gridcolor\":\"white\",\"linecolor\":\"white\",\"ticks\":\"\"}},\"ternary\":{\"bgcolor\":\"#E5ECF6\",\"aaxis\":{\"gridcolor\":\"white\",\"linecolor\":\"white\",\"ticks\":\"\"},\"baxis\":{\"gridcolor\":\"white\",\"linecolor\":\"white\",\"ticks\":\"\"},\"caxis\":{\"gridcolor\":\"white\",\"linecolor\":\"white\",\"ticks\":\"\"}},\"coloraxis\":{\"colorbar\":{\"outlinewidth\":0,\"ticks\":\"\"}},\"colorscale\":{\"sequential\":[[0.0,\"#0d0887\"],[0.1111111111111111,\"#46039f\"],[0.2222222222222222,\"#7201a8\"],[0.3333333333333333,\"#9c179e\"],[0.4444444444444444,\"#bd3786\"],[0.5555555555555556,\"#d8576b\"],[0.6666666666666666,\"#ed7953\"],[0.7777777777777778,\"#fb9f3a\"],[0.8888888888888888,\"#fdca26\"],[1.0,\"#f0f921\"]],\"sequentialminus\":[[0.0,\"#0d0887\"],[0.1111111111111111,\"#46039f\"],[0.2222222222222222,\"#7201a8\"],[0.3333333333333333,\"#9c179e\"],[0.4444444444444444,\"#bd3786\"],[0.5555555555555556,\"#d8576b\"],[0.6666666666666666,\"#ed7953\"],[0.7777777777777778,\"#fb9f3a\"],[0.8888888888888888,\"#fdca26\"],[1.0,\"#f0f921\"]],\"diverging\":[[0,\"#8e0152\"],[0.1,\"#c51b7d\"],[0.2,\"#de77ae\"],[0.3,\"#f1b6da\"],[0.4,\"#fde0ef\"],[0.5,\"#f7f7f7\"],[0.6,\"#e6f5d0\"],[0.7,\"#b8e186\"],[0.8,\"#7fbc41\"],[0.9,\"#4d9221\"],[1,\"#276419\"]]},\"xaxis\":{\"gridcolor\":\"white\",\"linecolor\":\"white\",\"ticks\":\"\",\"title\":{\"standoff\":15},\"zerolinecolor\":\"white\",\"automargin\":true,\"zerolinewidth\":2},\"yaxis\":{\"gridcolor\":\"white\",\"linecolor\":\"white\",\"ticks\":\"\",\"title\":{\"standoff\":15},\"zerolinecolor\":\"white\",\"automargin\":true,\"zerolinewidth\":2},\"scene\":{\"xaxis\":{\"backgroundcolor\":\"#E5ECF6\",\"gridcolor\":\"white\",\"linecolor\":\"white\",\"showbackground\":true,\"ticks\":\"\",\"zerolinecolor\":\"white\",\"gridwidth\":2},\"yaxis\":{\"backgroundcolor\":\"#E5ECF6\",\"gridcolor\":\"white\",\"linecolor\":\"white\",\"showbackground\":true,\"ticks\":\"\",\"zerolinecolor\":\"white\",\"gridwidth\":2},\"zaxis\":{\"backgroundcolor\":\"#E5ECF6\",\"gridcolor\":\"white\",\"linecolor\":\"white\",\"showbackground\":true,\"ticks\":\"\",\"zerolinecolor\":\"white\",\"gridwidth\":2}},\"shapedefaults\":{\"line\":{\"color\":\"#2a3f5f\"}},\"annotationdefaults\":{\"arrowcolor\":\"#2a3f5f\",\"arrowhead\":0,\"arrowwidth\":1},\"geo\":{\"bgcolor\":\"white\",\"landcolor\":\"#E5ECF6\",\"subunitcolor\":\"white\",\"showland\":true,\"showlakes\":true,\"lakecolor\":\"white\"},\"title\":{\"x\":0.05},\"mapbox\":{\"style\":\"light\"}}},\"title\":{\"text\":\"Total Nilai Penjualan Berdasarkan Bulan\"},\"xaxis\":{\"title\":{\"text\":\"Bulan\"}},\"yaxis\":{\"title\":{\"text\":\"Total Nilai Penjualan\"}}},                        {\"responsive\": true}                    ).then(function(){\n",
       "                            \n",
       "var gd = document.getElementById('1ba06141-392f-461e-8217-59bce9e7f48f');\n",
       "var x = new MutationObserver(function (mutations, observer) {{\n",
       "        var display = window.getComputedStyle(gd).display;\n",
       "        if (!display || display === 'none') {{\n",
       "            console.log([gd, 'removed!']);\n",
       "            Plotly.purge(gd);\n",
       "            observer.disconnect();\n",
       "        }}\n",
       "}});\n",
       "\n",
       "// Listen for the removal of the full notebook cells\n",
       "var notebookContainer = gd.closest('#notebook-container');\n",
       "if (notebookContainer) {{\n",
       "    x.observe(notebookContainer, {childList: true});\n",
       "}}\n",
       "\n",
       "// Listen for the clearing of the current output cell\n",
       "var outputEl = gd.closest('.output');\n",
       "if (outputEl) {{\n",
       "    x.observe(outputEl, {childList: true});\n",
       "}}\n",
       "\n",
       "                        })                };                });            </script>        </div>"
      ]
     },
     "metadata": {},
     "output_type": "display_data"
    }
   ],
   "source": [
    "# Membuat lineplot Untuk Nilai Penjualan Berdasarkan Bulan\n",
    "fig= go.Figure()\n",
    "fig.add_trace(go.Scatter(\n",
    "    x=sales_by_month['bulan'],\n",
    "    y=sales_by_month['nilai_penjualan'],\n",
    "    mode='lines+markers',\n",
    "    name='nilai_penjualan',\n",
    "    marker=dict(size=8)\n",
    "))\n",
    "\n",
    "# Menambahkan lingkaran pada titik puncak\n",
    "fig.add_trace(go.Scatter(\n",
    "    x=[max_month, '5'],\n",
    "    y=[max_value_month, mei_value],\n",
    "    mode='markers',\n",
    "    name='Puncak',\n",
    "   marker=dict(size=12, color='red', symbol='circle') \n",
    "))\n",
    "\n",
    "# Menambahkan judul dan label sumbu x & y\n",
    "fig.update_layout(\n",
    "    title='Total Nilai Penjualan Berdasarkan Bulan',\n",
    "    xaxis_title='Bulan',\n",
    "    yaxis_title='Total Nilai Penjualan'\n",
    ")\n",
    "fig.show()"
   ]
  },
  {
   "cell_type": "code",
   "execution_count": null,
   "id": "93540524-6903-4886-9e14-584d94883426",
   "metadata": {},
   "outputs": [],
   "source": []
  }
 ],
 "metadata": {
  "kernelspec": {
   "display_name": "Python 3 (ipykernel)",
   "language": "python",
   "name": "python3"
  },
  "language_info": {
   "codemirror_mode": {
    "name": "ipython",
    "version": 3
   },
   "file_extension": ".py",
   "mimetype": "text/x-python",
   "name": "python",
   "nbconvert_exporter": "python",
   "pygments_lexer": "ipython3",
   "version": "3.11.5"
  }
 },
 "nbformat": 4,
 "nbformat_minor": 5
}
