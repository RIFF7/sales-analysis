{
 "cells": [
  {
   "cell_type": "code",
   "execution_count": null,
   "id": "d2190b75-701d-42a1-b647-bb1f93e9ec8d",
   "metadata": {},
   "outputs": [],
   "source": []
  }
 ],
 "metadata": {
  "kernelspec": {
   "display_name": "",
   "name": ""
  },
  "language_info": {
   "name": ""
  }
 },
 "nbformat": 4,
 "nbformat_minor": 5
}
