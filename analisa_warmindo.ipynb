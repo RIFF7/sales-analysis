{
 "cells": [
  {
   "cell_type": "markdown",
   "id": "d425284c-4b71-4141-84d8-648b1632d6fb",
   "metadata": {},
   "source": [
    "<h1> Business Understanding </h1>\n",
    "\n",
    "<h2> Latar Belakang </h2>\n",
    "\n",
    "Warmindo, kependekan dari Warung Makan Indomie, adalah salah satu jenis usaha kuliner yang sangat populer di Indonesia. Warung ini menawarkan berbagai macam produk berbasis mi instan dan menu sederhana lainnya yang digemari oleh berbagai kalangan. Untuk memahami dan mengoptimalkan operasional bisnis, penting bagi Warmindo untuk menganalisis data transaksi yang terjadi di warung mereka.\n",
    "\n",
    "<h3> Tujuan Analisis </h3>\n",
    "\n",
    "Analisis data transaksi dari dataset data_warmindo.csv memiliki beberapa tujuan utama:\n",
    "\n",
    "1. Mengidentifikasi Pola Pembelian Pelanggan\n",
    "    - Menganalisis kapan (tanggal dan waktu) transaksi terjadi untuk mengetahui jam sibuk dan periode waktu dengan penjualan tertinggi.\n",
    "    - Melihat produk apa yang paling sering dibeli dan bagaimana permintaan produk berubah dari waktu ke waktu.\n",
    "    - Siapa pelanggan setia dan bagaimana kita bisa meningkatkan loyalitas mereka?\n",
    "    - Bagaimana efektivitas promosi dan diskon?\n",
    "\n",
    "2. Segmentasi Pelanggan\n",
    "    - Mengelompokkan pelanggan berdasarkan pola pembelian mereka, seperti frekuensi pembelian, jenis produk yang dibeli, dan nilai penjualan.\n",
    "    - Mengetahui siapa pelanggan setia dan pelanggan yang jarang berbelanja.\n",
    "\n",
    "3. Optimasi Stok dan Inventaris\n",
    "    - Menggunakan data penjualan untuk memperkirakan kebutuhan stok produk.\n",
    "    - Mengurangi risiko kekurangan stok atau overstocking yang dapat mengurangi profitabilitas.\n",
    "\n",
    "4. Evaluasi Promosi dan Diskon\n",
    "    - Menganalisis efektivitas berbagai jenis promosi dan diskon yang diberikan kepada pelanggan.\n",
    "    - Mengidentifikasi metode pembayaran mana yang paling sering digunakan oleh pelanggan dan apakah ada pengaruhnya terhadap nilai penjualan.\n",
    "\n",
    "<h3> Hasil yang Diharapkan </h3>\n",
    "\n",
    "Dengan melakukan analisis mendalam terhadap data ini, Warmindo dapat mengambil keputusan bisnis yang lebih baik berdasarkan wawasan yang diperoleh. Hasil analisis diharapkan dapat membantu dalam:\n",
    "\n",
    "- Mengoptimalkan strategi penjualan dan pemasaran.\n",
    "- Memperbaiki manajemen inventaris dan rantai pasokan.\n",
    "- Meningkatkan kepuasan dan loyalitas pelanggan melalui layanan yang lebih baik dan penawaran yang disesuaikan dengan kebutuhan pelanggan."
   ]
  },
  {
   "cell_type": "markdown",
   "id": "92ca77fe-8faa-4804-8d03-5a7c48738359",
   "metadata": {},
   "source": [
    "<h1> Data Understanding </h1>\n",
    "\n",
    "- **Koleksi Data:** Dataset data_warmindo.csv dengan 499 rows dengan kolom id, invoice_id, tanggal_transaksi, customer_id, nama_produk, jenis_produk, kategori_produk, quantity, harga_jual, jenis_pembayaran, jenis_pesanan, nilai_penjualan. Dari masing-masing kolom ini memiliki penjelasan sebagai berikut:\n",
    "\n",
    "    - id: ID unik untuk setiap entri transaksi.\n",
    "    - invoice_id: ID faktur untuk transaksi tertentu.\n",
    "    - tanggal_transaksi: Tanggal transaksi terjadi.\n",
    "    - customer_id: ID unik untuk setiap pelanggan.\n",
    "    - nama_produk: Nama produk yang dibeli.\n",
    "    - jenis_produk: Jenis produk (misalnya, mi instan, minuman, dll.).\n",
    "    - kategori_produk: Kategori produk (misalnya, makanan, minuman).\n",
    "    - quantity: Jumlah produk yang dibeli.\n",
    "    - harga_jual: Harga jual per unit produk.\n",
    "    - jenis_pembayaran: Jenis pembayaran yang digunakan (misalnya, tunai, kartu kredit).\n",
    "    - jenis_pesanan: Jenis pesanan (misalnya, makan di tempat, bawa pulang).\n",
    "    - nilai_penjualan: Total nilai penjualan untuk transaksi tersebut.\n",
    "\n",
    "- **Eksplorasi Data:**\n",
    "    - Mengidentifikasi distribusi dan statistik deskriptif dari masing-masing kolom.\n",
    "    - Mengamati pola temporal dari tanggal_transaksi.\n",
    "    - Menggali hubungan antara nama_produk, jenis_produk, dan kategori_produk dengan nilai_penjualan."
   ]
  },
  {
   "cell_type": "markdown",
   "id": "ebe8256c-ca04-4bf5-af01-2345e1507b30",
   "metadata": {},
   "source": [
    "<h1> Data Preparation </h1>\n",
    "\n",
    "- **Pembersihan Data:**\n",
    "    - Mengisi atau menghapus data yang hilang.\n",
    "    - Mengoreksi atau menghapus data anomali.\n",
    "\n",
    "- **Transformasi Data:**\n",
    "    - Mengubah format tanggal_transaksi menjadi datetime.\n",
    "    - Mengelompokkan produk berdasarkan kategori_produk.\n",
    "    - Menambahkan kolom baru jika diperlukan (misalnya, hari dalam minggu, bulan, dll).\n",
    "\n",
    "- **Integrasi Data:**\n",
    "    - Menggabungkan data yang mungkin terpisah (jika ada dataset tambahan)."
   ]
  },
  {
   "cell_type": "code",
   "execution_count": null,
   "id": "3e0abf63-5af3-40d4-9d2f-dbcbffde64a7",
   "metadata": {},
   "outputs": [],
   "source": []
  }
 ],
 "metadata": {
  "kernelspec": {
   "display_name": "Python 3 (ipykernel)",
   "language": "python",
   "name": "python3"
  },
  "language_info": {
   "codemirror_mode": {
    "name": "ipython",
    "version": 3
   },
   "file_extension": ".py",
   "mimetype": "text/x-python",
   "name": "python",
   "nbconvert_exporter": "python",
   "pygments_lexer": "ipython3",
   "version": "3.11.5"
  }
 },
 "nbformat": 4,
 "nbformat_minor": 5
}
